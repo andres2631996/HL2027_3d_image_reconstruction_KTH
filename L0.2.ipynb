{
 "cells": [
  {
   "cell_type": "markdown",
   "metadata": {},
   "source": [
    "# L0.2 - Tools for image processing\n",
    "\n",
    "In this lab you will familiarise yourself with some image processing tools that will help you to accomplish the subsequent labs and projects in this course. This comprises several python libraries (_Numpy_, _SciPy_, _matplotlib_, _scikit-image_, _SimpleITK_) as well as the software _MeVisLab_.\n",
    "\n",
    "Intended time: **max 1.5 hours** <img src=\"scipy.jpeg\" width=\"160px\" style=\"display:inline\" align=\"right\"> <img src=\"simpleitk.png\" width=\"160px\" style=\"display:inline\" align=\"right\"> <img src=\"matplotlib.png\" width=\"300px\" style=\"display:inline\" align=\"right\">\n",
    "\n",
    "Questions to: **daniel.jorgens@sth.kth.se**\n",
    "\n",
    "<img src=\"numpy.jpeg\" width=\"190px\" style=\"display:inline\" align=\"left\">  <img src=\"skimage.jpeg\" width=\"370px\" style=\"display:inline\" align=\"middle\"> <img src=\"mevislab.jpeg\" width=\"90px\" style=\"display:inline\" align=\"right\">\n",
    "\n",
    "### References\n",
    "\n",
    " 1. https://docs.scipy.org/doc/numpy-1.14.0/reference/index.html: _Numpy_ reference list. Overview of all functionality in _Numpy_. Of course, the famous _ndarray_ class is listed on top.\n",
    " 2. https://docs.scipy.org/doc/scipy/reference/: _SciPy_ reference list. Overview of all subpackages as well as corresponding tutorials in _SciPy_. For us the package _ndimage_ is mainly interesting for us.\n",
    " 3. http://scikit-image.org/docs/stable/: A good start into the _scikit-image_ documentation. Use the search functionality if you roughly know what you are looking for.\n",
    " 4. http://www.simpleitk.org/SimpleITK/help/documentation.html: The main page for the _SimpleITK_ documentation. You will find a reference guide for the C++ implementation. However, it is automatically generated, not the most convenient to read and not the best for our purposes (as we use Python). However, there are a lot of example notebooks available at http://insightsoftwareconsortium.github.io/SimpleITK-Notebooks/.\n",
    " 5. https://matplotlib.org/api/pyplot_summary.html: This is the documentation of the _pyplot_ subpackage of _matplotlib_ which is imitating the Matlab plotting behaviour. The whole _matplotlib_ doc is available at https://matplotlib.org/index.html."
   ]
  },
  {
   "cell_type": "markdown",
   "metadata": {},
   "source": [
    "# Numpy <img src=\"numpy.jpeg\" width=\"200px\" style=\"display:inline\" align=\"right\">\n",
    "\n",
    "The main functionality provided by the _Numpy_ library is the _ndarray_. It is a very powerful container for almost any datatype which adds array functionality to the Python language. (Natively, arrays would need to be constructed as 'lists of lists'.) Here, we point out some basic usage of that class. For a full overview, have a look at **[Ref 1]**."
   ]
  },
  {
   "cell_type": "code",
   "execution_count": 3,
   "metadata": {
    "collapsed": true
   },
   "outputs": [],
   "source": [
    "import numpy as np"
   ]
  },
  {
   "cell_type": "markdown",
   "metadata": {},
   "source": [
    "## Ndarray\n",
    "\n",
    "### Construction\n",
    "\n",
    "A simple way of constructing an _ndarray_ from given data is to give the data as a list structure."
   ]
  },
  {
   "cell_type": "code",
   "execution_count": 4,
   "metadata": {},
   "outputs": [
    {
     "name": "stdout",
     "output_type": "stream",
     "text": [
      "'arr' is of type <class 'numpy.ndarray'> and has value [ 1.  -2.3  3.   4.   1.  -2.3  3.   4.   1.  -2.3  3.   4.   1.  -2.3\n",
      "  3.   4.   1.  -2.3  3.   4. ].\n"
     ]
    }
   ],
   "source": [
    "# create data in a list #\n",
    "l = [1, -2.3, 3, 4] * 5  # Do you recall what multiplication with a scalar means for a 'list'? #\n",
    "\n",
    "# create 'ndarray' #\n",
    "arr = np.array(l)\n",
    "\n",
    "# TODO: print type and value of the array #\n",
    "print(\"'arr' is of type {} and has value {}.\".format(type(arr),arr))"
   ]
  },
  {
   "cell_type": "markdown",
   "metadata": {},
   "source": [
    "The obtained array is one-dimensional. As mentioned above, one can imitate array behaviour natively in Python by creating a list of lists. In that way it is also possible to create _n_-dimensional ndarrays."
   ]
  },
  {
   "cell_type": "code",
   "execution_count": 19,
   "metadata": {},
   "outputs": [
    {
     "name": "stdout",
     "output_type": "stream",
     "text": [
      "'arr2' is of dimension 2 and has value [[ 0.  -0.   0.   0.   0.  -0.   0.   0.   0.  -0.   0.   0.   0.  -0.\n",
      "   0.   0.   0.  -0.   0.   0. ]\n",
      " [ 1.  -2.3  3.   4.   1.  -2.3  3.   4.   1.  -2.3  3.   4.   1.  -2.3\n",
      "   3.   4.   1.  -2.3  3.   4. ]\n",
      " [ 2.  -4.6  6.   8.   2.  -4.6  6.   8.   2.  -4.6  6.   8.   2.  -4.6\n",
      "   6.   8.   2.  -4.6  6.   8. ]\n",
      " [ 3.  -6.9  9.  12.   3.  -6.9  9.  12.   3.  -6.9  9.  12.   3.  -6.9\n",
      "   9.  12.   3.  -6.9  9.  12. ]\n",
      " [ 4.  -9.2 12.  16.   4.  -9.2 12.  16.   4.  -9.2 12.  16.   4.  -9.2\n",
      "  12.  16.   4.  -9.2 12.  16. ]].\n"
     ]
    }
   ],
   "source": [
    "# create two-dimensional list #\n",
    "l2 = [[i * val for val in l] for i in range(5)]  # Do you recall list comprehensions? Here, we use two interleaved ones. #\n",
    "\n",
    "# TODO: create 'ndarray' #\n",
    "arr2 = np.array(l2)\n",
    "\n",
    "# TODO: the dimension of an 'ndarray' is accessible by the attribute 'ndim' #\n",
    "print(\"'arr2' is of dimension {} and has value {}.\".format(len(arr2.shape),arr2))"
   ]
  },
  {
   "cell_type": "markdown",
   "metadata": {},
   "source": [
    "### Convenient construction\n",
    "\n",
    "There exist many functions that ease the construction of ndarrays in some cases (similar as in Matlab e.g. 'ones' or 'zeros')"
   ]
  },
  {
   "cell_type": "code",
   "execution_count": 7,
   "metadata": {},
   "outputs": [
    {
     "name": "stdout",
     "output_type": "stream",
     "text": [
      "'arr_zeros': \n",
      "[[0. 0. 0.]\n",
      " [0. 0. 0.]\n",
      " [0. 0. 0.]\n",
      " [0. 0. 0.]\n",
      " [0. 0. 0.]]\n",
      "\n",
      "'arr_def': \n",
      "[[0. 0. 0.]\n",
      " [0. 0. 0.]\n",
      " [0. 0. 0.]\n",
      " [0. 0. 0.]\n",
      " [0. 0. 0.]]\n",
      "\n",
      "'arr_ones': \n",
      "[[1. 1. 1.]\n",
      " [1. 1. 1.]\n",
      " [1. 1. 1.]]\n",
      "\n"
     ]
    }
   ],
   "source": [
    "# initialise with 0 (default) #\n",
    "arr_zeros = np.zeros(shape=(5, 3))\n",
    "print(\"'arr_zeros': \\n{}\\n\".format(arr_zeros))\n",
    "\n",
    "arr_def = np.zeros(shape=(5, 3))\n",
    "print(\"'arr_def': \\n{}\\n\".format(arr_def))\n",
    "\n",
    "# initialise with 1 #\n",
    "arr_ones = np.ones(shape=(3, 3))\n",
    "print(\"'arr_ones': \\n{}\\n\".format(arr_ones))"
   ]
  },
  {
   "cell_type": "markdown",
   "metadata": {},
   "source": [
    "For initialisation with random numbers the syntax looks slightly different."
   ]
  },
  {
   "cell_type": "code",
   "execution_count": 8,
   "metadata": {},
   "outputs": [
    {
     "name": "stdout",
     "output_type": "stream",
     "text": [
      "'arr_rand_UNI': \n",
      "[[0.25659047 0.60585229]\n",
      " [0.77973312 0.38679195]\n",
      " [0.68730026 0.53724246]\n",
      " [0.32633631 0.25693158]]\n",
      "\n",
      "'arr_rand_NORM': \n",
      "[[ 0.10839115 -0.57962287]\n",
      " [-1.05642957 -0.11492077]\n",
      " [ 0.2610322   2.43629771]\n",
      " [-1.12711444  1.38683801]]\n",
      "\n"
     ]
    }
   ],
   "source": [
    "# initialise with UNIFORMLY distributed random numbers #\n",
    "arr_rand_UNI = np.random.rand(4, 2)\n",
    "print(\"'arr_rand_UNI': \\n{}\\n\".format(arr_rand_UNI))\n",
    "\n",
    "# initialise with NORMALLY distributed random numbers #\n",
    "arr_rand_NORM = np.random.randn(4, 2)\n",
    "print(\"'arr_rand_NORM': \\n{}\\n\".format(arr_rand_NORM))"
   ]
  },
  {
   "cell_type": "markdown",
   "metadata": {},
   "source": [
    "Sometimes useful for image processing (similar to Matlab's linspace):"
   ]
  },
  {
   "cell_type": "code",
   "execution_count": 9,
   "metadata": {},
   "outputs": [
    {
     "name": "stdout",
     "output_type": "stream",
     "text": [
      "'arr_lp': \n",
      "[ 10.    21.25  32.5   43.75  55.    66.25  77.5   88.75 100.  ]\n"
     ]
    }
   ],
   "source": [
    "# initialise range with certain number of points #\n",
    "arr_lp = np.linspace(10, 100, 9)\n",
    "\n",
    "print(\"'arr_lp': \\n{}\".format(arr_lp))"
   ]
  },
  {
   "cell_type": "markdown",
   "metadata": {},
   "source": [
    "### Properties\n",
    "\n",
    "An 'ndarray' features several properties that can be conveniently queried directly on the object.\n",
    "\n",
    "##### Task 1.1\n",
    "\n",
    "Check https://docs.scipy.org/doc/numpy-1.14.0/reference/generated/numpy.ndarray.html to complete the code in the following cells!"
   ]
  },
  {
   "cell_type": "code",
   "execution_count": 41,
   "metadata": {},
   "outputs": [
    {
     "name": "stdout",
     "output_type": "stream",
     "text": [
      "Properties of 'arr2': \n",
      "\n",
      " number of dimensions: 2\n",
      " shape: (5, 20)\n",
      " maximum value: 16.0\n",
      " minimum value: -9.2\n",
      " mean value: 2.8500000000000005\n",
      " standard deviation: 6.261353324525414\n"
     ]
    }
   ],
   "source": [
    "# dict to store the properties #\n",
    "props = dict()\n",
    "import statistics\n",
    "# collect properties of 'arr2' #\n",
    "mx=np.zeros(shape=(arr2.shape[1]))\n",
    "mn=np.zeros(shape=(arr2.shape[1]))\n",
    "props['number of dimensions'] = len(arr2.shape)\n",
    "props['shape'] = arr2.shape\n",
    "props['maximum value'] = max(arr2.flatten())\n",
    "props['minimum value'] = min(arr2.flatten())\n",
    "props['mean value'] = np.mean(arr2.flatten())    \n",
    "props['standard deviation'] = statistics.stdev(arr2.flatten())\n",
    "\n",
    "# print the properties #\n",
    "print(\"Properties of 'arr2': \\n\")\n",
    "for key, value in props.items():\n",
    "    print(\" {}: {}\".format(key, value))"
   ]
  },
  {
   "cell_type": "markdown",
   "metadata": {},
   "source": [
    "Further, there are some useful transforms available."
   ]
  },
  {
   "cell_type": "code",
   "execution_count": 43,
   "metadata": {},
   "outputs": [
    {
     "name": "stdout",
     "output_type": "stream",
     "text": [
      "'arr2_1d': \n",
      "[ 0.  -0.   0.   0.   0.  -0.   0.   0.   0.  -0.   0.   0.   0.  -0.\n",
      "  0.   0.   0.  -0.   0.   0.   1.  -2.3  3.   4.   1.  -2.3  3.   4.\n",
      "  1.  -2.3  3.   4.   1.  -2.3  3.   4.   1.  -2.3  3.   4.   2.  -4.6\n",
      "  6.   8.   2.  -4.6  6.   8.   2.  -4.6  6.   8.   2.  -4.6  6.   8.\n",
      "  2.  -4.6  6.   8.   3.  -6.9  9.  12.   3.  -6.9  9.  12.   3.  -6.9\n",
      "  9.  12.   3.  -6.9  9.  12.   3.  -6.9  9.  12.   4.  -9.2 12.  16.\n",
      "  4.  -9.2 12.  16.   4.  -9.2 12.  16.   4.  -9.2 12.  16.   4.  -9.2\n",
      " 12.  16. ]\n"
     ]
    }
   ],
   "source": [
    "# TODO: obtain a one-dimensional version of 'arr2' #\n",
    "arr2_1d = arr2.flatten()\n",
    "print(\"'arr2_1d': \\n{}\".format(arr2_1d))"
   ]
  },
  {
   "cell_type": "code",
   "execution_count": 45,
   "metadata": {},
   "outputs": [
    {
     "name": "stdout",
     "output_type": "stream",
     "text": [
      "'arr2_t': \n",
      "[[ 0.   1.   2.   3.   4. ]\n",
      " [-0.  -2.3 -4.6 -6.9 -9.2]\n",
      " [ 0.   3.   6.   9.  12. ]\n",
      " [ 0.   4.   8.  12.  16. ]\n",
      " [ 0.   1.   2.   3.   4. ]\n",
      " [-0.  -2.3 -4.6 -6.9 -9.2]\n",
      " [ 0.   3.   6.   9.  12. ]\n",
      " [ 0.   4.   8.  12.  16. ]\n",
      " [ 0.   1.   2.   3.   4. ]\n",
      " [-0.  -2.3 -4.6 -6.9 -9.2]\n",
      " [ 0.   3.   6.   9.  12. ]\n",
      " [ 0.   4.   8.  12.  16. ]\n",
      " [ 0.   1.   2.   3.   4. ]\n",
      " [-0.  -2.3 -4.6 -6.9 -9.2]\n",
      " [ 0.   3.   6.   9.  12. ]\n",
      " [ 0.   4.   8.  12.  16. ]\n",
      " [ 0.   1.   2.   3.   4. ]\n",
      " [-0.  -2.3 -4.6 -6.9 -9.2]\n",
      " [ 0.   3.   6.   9.  12. ]\n",
      " [ 0.   4.   8.  12.  16. ]]\n"
     ]
    }
   ],
   "source": [
    "# TODO: transpose 'arr2' #\n",
    "arr2_t = arr2.T\n",
    "print(\"'arr2_t': \\n{}\".format(arr2_t))"
   ]
  },
  {
   "cell_type": "markdown",
   "metadata": {},
   "source": [
    "### Indexing\n",
    "\n",
    "Indexing works as usual in Python based on brackets ('[...]'). Different approaches of indexing exist."
   ]
  },
  {
   "cell_type": "code",
   "execution_count": 48,
   "metadata": {},
   "outputs": [
    {
     "name": "stdout",
     "output_type": "stream",
     "text": [
      "arr2[1, 2] = 3.0\n",
      "arr2[1] = [ 1.  -2.3  3.   4.   1.  -2.3  3.   4.   1.  -2.3  3.   4.   1.  -2.3\n",
      "  3.   4.   1.  -2.3  3.   4. ]\n",
      "arr2[1, :] = [ 1.  -2.3  3.   4.   1.  -2.3  3.   4.   1.  -2.3  3.   4.   1.  -2.3\n",
      "  3.   4.   1.  -2.3  3.   4. ]\n",
      "arr2[1:3, 2:4] = [[3. 4.]\n",
      " [6. 8.]]\n",
      "arr2[1:6:2, 2:4] = [[ 3.  4.]\n",
      " [ 9. 12.]]\n"
     ]
    }
   ],
   "source": [
    "# access single element #\n",
    "print(\"arr2[1, 2] = {}\".format(arr2[1, 2]))\n",
    "\n",
    "# access second row #\n",
    "print(\"arr2[1] = {}\".format(arr2[1]))\n",
    "\n",
    "# alternative way to access second row #\n",
    "print(\"arr2[1, :] = {}\".format(arr2[1,:]))\n",
    "\n",
    "# access submatrix #\n",
    "print(\"arr2[1:3, 2:4] = {}\".format(arr2[1:3, 2:4]))\n",
    "\n",
    "# non-contiguous selection of elements #\n",
    "print(\"arr2[1:6:2, 2:4] = {}\".format(arr2[1:6:2, 2:4]))"
   ]
  },
  {
   "cell_type": "markdown",
   "metadata": {},
   "source": [
    "### Mathematical operators\n",
    "\n",
    "Mathematical operators work element-wise as one would intuitively expect.\n",
    "\n",
    "##### Task 1.2\n",
    "\n",
    "Apply mathematical operators in the following code snippet."
   ]
  },
  {
   "cell_type": "code",
   "execution_count": 49,
   "metadata": {
    "collapsed": true
   },
   "outputs": [],
   "source": [
    "# TODO: create two three-dimensional arrays with random numbers #\n",
    "a1 = np.random.rand(2,2,2)\n",
    "a2 = np.random.rand(2,2,2)"
   ]
  },
  {
   "cell_type": "code",
   "execution_count": 50,
   "metadata": {},
   "outputs": [
    {
     "name": "stdout",
     "output_type": "stream",
     "text": [
      "a1 + a2 = [[[0.7022158  1.51285875]\n",
      "  [0.55553074 1.09308127]]\n",
      "\n",
      " [[0.4846523  1.54921793]\n",
      "  [1.24302334 1.4336315 ]]]\n",
      "a1 * a2 = [[[0.01317526 0.56898475]\n",
      "  [0.07622776 0.29869366]]\n",
      "\n",
      " [[0.05755313 0.59453711]\n",
      "  [0.38352233 0.47491924]]]\n",
      "a1 // a2 = [[[0. 0.]\n",
      "  [1. 0.]]\n",
      "\n",
      " [[1. 1.]\n",
      "  [1. 0.]]]\n"
     ]
    }
   ],
   "source": [
    "# TODO: 'ndarray' [op] 'ndarray' #\n",
    "print(\"a1 + a2 = {}\".format(a1+a2))\n",
    "print(\"a1 * a2 = {}\".format(a1*a2))\n",
    "print(\"a1 // a2 = {}\".format(a1//a2))"
   ]
  },
  {
   "cell_type": "code",
   "execution_count": 51,
   "metadata": {},
   "outputs": [
    {
     "name": "stdout",
     "output_type": "stream",
     "text": [
      "3.4 * a2 = [[[2.32193942 2.7642125 ]\n",
      "  [0.84094836 1.87049753]]\n",
      "\n",
      " [[0.70766916 2.38193403]\n",
      "  [1.93469894 3.10780651]]]\n",
      "a1 + -4.3 = [[[-4.28070756 -3.60014492]\n",
      "  [-3.99180701 -3.75706506]]\n",
      "\n",
      " [[-4.02348569 -3.4513509 ]\n",
      "  [-3.62600576 -3.78042924]]]\n"
     ]
    }
   ],
   "source": [
    "# TODO: 'scalar' [op] 'ndarray' #\n",
    "print(\"3.4 * a2 = {}\".format(3.4*a2))\n",
    "print(\"a1 + -4.3 = {}\".format(a1-4.3))"
   ]
  },
  {
   "cell_type": "markdown",
   "metadata": {},
   "source": [
    "Outer and inner product operations are as follows."
   ]
  },
  {
   "cell_type": "code",
   "execution_count": 52,
   "metadata": {
    "collapsed": true
   },
   "outputs": [],
   "source": [
    "# TODO: create two one-dimensional 'ndarrays' (i.e. vectors) with random numbers #\n",
    "v1 = np.random.rand(5)\n",
    "v2 = np.random.rand(5)"
   ]
  },
  {
   "cell_type": "code",
   "execution_count": 53,
   "metadata": {},
   "outputs": [
    {
     "name": "stdout",
     "output_type": "stream",
     "text": [
      "outer_prod: [[0.14457036 0.06743295 0.1489748  0.20759964 0.19603184]\n",
      " [0.48171348 0.22468895 0.49638923 0.69172922 0.65318491]\n",
      " [0.47993839 0.22386098 0.49456007 0.68918024 0.65077796]\n",
      " [0.0744665  0.03473393 0.07673518 0.10693215 0.10097371]\n",
      " [0.1665482  0.07768423 0.17162221 0.2391593  0.22583294]]\n"
     ]
    }
   ],
   "source": [
    "# TODO: compute the outer product #\n",
    "outer_prod = np.outer(v1,v2)\n",
    "print('outer_prod: {}'.format(outer_prod))"
   ]
  },
  {
   "cell_type": "code",
   "execution_count": 54,
   "metadata": {},
   "outputs": [
    {
     "name": "stdout",
     "output_type": "stream",
     "text": [
      "inner_prod: 1.196584466971543\n"
     ]
    }
   ],
   "source": [
    "# TODO: compute the inner product (i.e. scalar/dot product) #\n",
    "inner_prod = np.inner(v1,v2)\n",
    "print('inner_prod: {}'.format(inner_prod))"
   ]
  },
  {
   "cell_type": "code",
   "execution_count": 55,
   "metadata": {},
   "outputs": [
    {
     "name": "stdout",
     "output_type": "stream",
     "text": [
      "inner_prod2: 1.196584466971543\n"
     ]
    }
   ],
   "source": [
    "# TODO: there is an alternative way of writing the inner product using the '@' operator; try it! #\n",
    "inner_prod2 = v1@v2\n",
    "print('inner_prod2: {}'.format(inner_prod2))"
   ]
  },
  {
   "cell_type": "markdown",
   "metadata": {},
   "source": [
    "### Comparison operators\n",
    "\n",
    "Also comparison operators work element-wise as expected. This is often useful for simple thresholding in order to create a binary mask for an image."
   ]
  },
  {
   "cell_type": "code",
   "execution_count": 56,
   "metadata": {},
   "outputs": [
    {
     "name": "stdout",
     "output_type": "stream",
     "text": [
      "a1 > a2 = [[[False False]\n",
      "  [ True False]]\n",
      "\n",
      " [[ True  True]\n",
      "  [ True False]]]\n",
      "a1_thresh = [[[False  True]\n",
      "  [False  True]]\n",
      "\n",
      " [[False  True]\n",
      "  [ True  True]]]\n"
     ]
    }
   ],
   "source": [
    "# TODO: compare 'a1' and 'a2' #\n",
    "print(\"a1 > a2 = {}\".format(a1>a2))\n",
    "\n",
    "# TODO: threshold 'a1' with a scalar #\n",
    "a1_thresh = a1>0.4\n",
    "print(\"a1_thresh = {}\".format(a1_thresh))  # TODO: How many 'True' values do you expect on average??\n",
    "# Numbers are randomly generated, so we expect as many Trues as (1-threshold)*number of elements in array, in average"
   ]
  },
  {
   "cell_type": "markdown",
   "metadata": {},
   "source": [
    "### Logical operators\n",
    "\n",
    "Logical operations are not defined for 'ndarrays'. But there are functions for common tasks."
   ]
  },
  {
   "cell_type": "code",
   "execution_count": 59,
   "metadata": {},
   "outputs": [
    {
     "ename": "ValueError",
     "evalue": "The truth value of an array with more than one element is ambiguous. Use a.any() or a.all()",
     "output_type": "error",
     "traceback": [
      "\u001b[1;31m---------------------------------------------------------------------------\u001b[0m",
      "\u001b[1;31mValueError\u001b[0m                                Traceback (most recent call last)",
      "\u001b[1;32m<ipython-input-59-c878e52524dd>\u001b[0m in \u001b[0;36m<module>\u001b[1;34m()\u001b[0m\n\u001b[0;32m      1\u001b[0m \u001b[1;31m# complement of 'a1_thresh' (hint: use the 'not' operator; this will cause an error) #\u001b[0m\u001b[1;33m\u001b[0m\u001b[1;33m\u001b[0m\u001b[0m\n\u001b[1;32m----> 2\u001b[1;33m \u001b[1;32mnot\u001b[0m \u001b[0ma1_thresh\u001b[0m\u001b[1;33m\u001b[0m\u001b[0m\n\u001b[0m",
      "\u001b[1;31mValueError\u001b[0m: The truth value of an array with more than one element is ambiguous. Use a.any() or a.all()"
     ]
    }
   ],
   "source": [
    "# complement of 'a1_thresh' (hint: use the 'not' operator; this will cause an error) #\n",
    "not a1_thresh"
   ]
  },
  {
   "cell_type": "markdown",
   "metadata": {},
   "source": [
    "##### Task 1.3\n",
    "\n",
    "Try out the two proposed functions in the previous error message! What is their meaning?"
   ]
  },
  {
   "cell_type": "code",
   "execution_count": 60,
   "metadata": {},
   "outputs": [
    {
     "name": "stdout",
     "output_type": "stream",
     "text": [
      "False\n",
      "False\n"
     ]
    }
   ],
   "source": [
    "# TODO: try out the two proposed functions in the previous error message #\n",
    "print(not a1_thresh.all)\n",
    "print(not a1_thresh.any)"
   ]
  },
  {
   "cell_type": "markdown",
   "metadata": {},
   "source": [
    "An alternative way of merging two masks is using element-wise mathematical operators on the boolean 'ndarrays'. But for getting a bit closer to images we introduce a way to plot the arrays first."
   ]
  },
  {
   "cell_type": "markdown",
   "metadata": {},
   "source": [
    "# Matplotlib <img src=\"matplotlib.png\" width=\"250px\" style=\"display:inline\" align=\"right\">\n",
    "\n",
    "This library provides plotting functionality very similar to what is available in Matlab. For this purpose we use the subpackage _pyplot_ usually imported as _plt_."
   ]
  },
  {
   "cell_type": "code",
   "execution_count": 2,
   "metadata": {
    "collapsed": true
   },
   "outputs": [],
   "source": [
    "import matplotlib.pyplot as plt"
   ]
  },
  {
   "cell_type": "markdown",
   "metadata": {},
   "source": [
    "Useful for image processing purposes are the functions\n",
    " * _figure_  -  to create a new figure\n",
    " * _subplot_  -  to arrange several subfigures alongside each other\n",
    " * _imshow_  -  to plot an actual image (NOTE: The image must be 2D!)\n",
    " * _show_  -  to ultimately make the current figure visible\n",
    "\n",
    "We have a look at an example to plot a slice of 'a1' and the same slice in the thresholded array 'a1_thresh'."
   ]
  },
  {
   "cell_type": "code",
   "execution_count": 62,
   "metadata": {},
   "outputs": [
    {
     "data": {
      "image/png": "[encoded data removed]",
      "text/plain": [
       "<matplotlib.figure.Figure at 0x1c31c473358>"
      ]
     },
     "metadata": {},
     "output_type": "display_data"
    }
   ],
   "source": [
    "# define image slice to plot #\n",
    "slice_idx = 1\n",
    "\n",
    "# create a new figure #\n",
    "plt.figure()\n",
    "\n",
    "# define subplot layout (arg1 and arg2) and the position in the layout (arg3) #\n",
    "plt.subplot(1, 2, 1)\n",
    "\n",
    "# plot slice 'slice_idx' of 'a1' #\n",
    "plt.imshow(a1[slice_idx])\n",
    "\n",
    "# define next subplot #\n",
    "plt.subplot(1, 2, 2)\n",
    "\n",
    "# plot slice 'slice_idx' of 'a1_thresh' #\n",
    "plt.imshow(a1_thresh[slice_idx])\n",
    "\n",
    "# make this figure visible #\n",
    "plt.show()"
   ]
  },
  {
   "cell_type": "markdown",
   "metadata": {},
   "source": [
    "With this tool you can now apply the elementwise mathematical operators to merge two mask (i.e. boolean) 'ndarrays'.\n",
    "\n",
    "##### Task 2.1\n",
    "\n",
    "Multiply and add two masks with each other. What is the meaning of the respective operation?"
   ]
  },
  {
   "cell_type": "code",
   "execution_count": 64,
   "metadata": {
    "collapsed": true
   },
   "outputs": [],
   "source": [
    "# TODO: threshold 'a2' as well #\n",
    "a2_thresh = a2>0.5"
   ]
  },
  {
   "cell_type": "code",
   "execution_count": 65,
   "metadata": {},
   "outputs": [
    {
     "data": {
      "image/png": "[encoded data removed]",
      "text/plain": [
       "<matplotlib.figure.Figure at 0x1c31e51f400>"
      ]
     },
     "metadata": {},
     "output_type": "display_data"
    }
   ],
   "source": [
    "# TODO: MULTIPLY 'a1_thresh' and 'a2_thresh' elementwise #\n",
    "mask_mult = a1_thresh*a2_thresh\n",
    "\n",
    "# plot results #\n",
    "plt.figure()\n",
    "plt.subplot(1, 3, 1)\n",
    "plt.imshow(a1_thresh[1])\n",
    "plt.subplot(1, 3, 2)\n",
    "plt.imshow(a2_thresh[1])\n",
    "plt.subplot(1, 3, 3)\n",
    "plt.imshow(mask_mult[1])\n",
    "plt.show()"
   ]
  },
  {
   "cell_type": "code",
   "execution_count": 66,
   "metadata": {},
   "outputs": [
    {
     "data": {
      "image/png": "[encoded data removed]",
      "text/plain": [
       "<matplotlib.figure.Figure at 0x1c31e591390>"
      ]
     },
     "metadata": {},
     "output_type": "display_data"
    }
   ],
   "source": [
    "# TODO: ADD 'a1_thresh' and 'a2_thresh' elementwise #\n",
    "mask_add = a1_thresh+a2_thresh\n",
    "\n",
    "# plot results #\n",
    "plt.figure()\n",
    "plt.subplot(1, 3, 1)\n",
    "plt.imshow(a1_thresh[1])\n",
    "plt.subplot(1, 3, 2)\n",
    "plt.imshow(a2_thresh[1])\n",
    "plt.subplot(1, 3, 3)\n",
    "plt.imshow(mask_add[1])\n",
    "plt.show()"
   ]
  },
  {
   "cell_type": "markdown",
   "metadata": {},
   "source": [
    "# Scipy <img src=\"scipy.jpeg\" width=\"100px\" style=\"display:inline\" align=\"right\">\n",
    "\n",
    "The _SciPy stack_ contains a collection of useful functions commonly used in scientific tasks. While the _Numpy ndarray_ is the most famous core package, several subpackages of the _SciPy library_ use this data structure for various functions solving common problems (see **[Ref 2]** for a list of the different contents covered by the scipy collection).\n",
    "\n",
    "Of course, for our purposes the _ndimage_ subpackage is the most useful. In the following you will go through one example, but be sure that there will be more to come in the upcomming labs... ;)"
   ]
  },
  {
   "cell_type": "code",
   "execution_count": 68,
   "metadata": {},
   "outputs": [
    {
     "data": {
      "image/png": "[encoded data removed]",
      "text/plain": [
       "<matplotlib.figure.Figure at 0x1c30ae4e5f8>"
      ]
     },
     "metadata": {},
     "output_type": "display_data"
    }
   ],
   "source": [
    "# TODO: import 'rotate' from subpackage 'ndimage' #\n",
    "from scipy import ndimage\n",
    "from scipy.ndimage import rotate\n",
    "# ... #  # HINT: look at previous import statements #\n",
    "\n",
    "# define a rotation angle #\n",
    "angle = 90\n",
    "\n",
    "# define rotation plane as (axis1, axis2) #\n",
    "axes = (1, 2)\n",
    "\n",
    "# define interpolation order as nearest neighbour #\n",
    "order = 0\n",
    "\n",
    "# TODO: rotate the multiplication mask; specify the arguments: input, angle, axes, order #\n",
    "mask_rot = rotate(mask_mult,angle,axes,order)\n",
    "\n",
    "# plot results #\n",
    "plt.figure()\n",
    "plt.subplot(1, 2, 1)\n",
    "plt.imshow(mask_mult[1])\n",
    "plt.subplot(1, 2, 2)\n",
    "plt.imshow(mask_rot[1])\n",
    "plt.show()"
   ]
  },
  {
   "cell_type": "markdown",
   "metadata": {},
   "source": [
    "# Scikit-image <img src=\"skimage.jpeg\" width=\"300px\" style=\"display:inline\" align=\"right\">\n",
    "\n",
    "This package belongs (as the name indicates) to the scipy community. As one can read in the documentation (see **[Ref 3]**) it extends the package _scipy.ndimage_ (Can you find the _rotate_ function?) and provides additional functionality e.g. I/O of images which we will explore here.\n",
    "\n",
    "Things to know:\n",
    "\n",
    " * example functionality? (one example!)\n",
    " * reading / writing images"
   ]
  },
  {
   "cell_type": "code",
   "execution_count": 3,
   "metadata": {},
   "outputs": [
    {
     "data": {
      "image/png": "[encoded data removed]",
      "text/plain": [
       "<matplotlib.figure.Figure at 0x94bf871f60>"
      ]
     },
     "metadata": {},
     "output_type": "display_data"
    }
   ],
   "source": [
    "import os\n",
    "from skimage.io import imread\n",
    "\n",
    "# define name of image file #\n",
    "filename = os.path.abspath('simpleitk.png')  # TODO: insert filename (see below) #\n",
    "\n",
    "# TODO: load the image 'simpleitk.png' #\n",
    "image = imread('simpleitk.png')\n",
    "\n",
    "# TODO: plot the loaded image #\n",
    "plt.figure() # TODO: create the figure #\n",
    "plt.imshow(image)  # TODO: plot the image #\n",
    "plt.show()  # TODO: make everything visible #"
   ]
  },
  {
   "cell_type": "markdown",
   "metadata": {},
   "source": [
    "##### Task 4.1\n",
    "\n",
    "Try now to use the rotation function of _scikit-image_ on 'image'!"
   ]
  },
  {
   "cell_type": "code",
   "execution_count": 7,
   "metadata": {},
   "outputs": [
    {
     "data": {
      "image/png": "[encoded data removed]",
      "text/plain": [
       "<matplotlib.figure.Figure at 0x94bf93dcc0>"
      ]
     },
     "metadata": {},
     "output_type": "display_data"
    }
   ],
   "source": [
    "# TODO: import scikit-image's rotation function #\n",
    "# ... #  # HINT: Use the search function in the docs. It really works! :) #\n",
    "from scipy.ndimage import rotate\n",
    "\n",
    "# define a rotation angle #\n",
    "angle2 = 30\n",
    "\n",
    "# TODO: rotate 'image'; specify the following arguments: input, angle #\n",
    "image_rot = rotate(image,angle2)\n",
    "\n",
    "# TODO: plot the rotated image #\n",
    "plt.figure()\n",
    "plt.imshow(image_rot) # This time you manage on your own, don't you? ;) #\n",
    "plt.show()"
   ]
  },
  {
   "cell_type": "markdown",
   "metadata": {},
   "source": [
    "Of course, there is also a function to output an image. It is located in the same package as _imread_. Check the documentation page!\n",
    "\n",
    "##### Task 4.2\n",
    "\n",
    "Save the rotated image to disc! Check if it worked!"
   ]
  },
  {
   "cell_type": "code",
   "execution_count": 8,
   "metadata": {},
   "outputs": [],
   "source": [
    "# TODO: imports #\n",
    "import os\n",
    "from skimage.io import imsave\n",
    "\n",
    "# TODO: save 'image_rot' #\n",
    "imsave(\"Image_to_save.png\",image_rot)"
   ]
  },
  {
   "cell_type": "markdown",
   "metadata": {},
   "source": [
    "# SimpleITK <img src=\"simpleitk.png\" width=\"150px\" style=\"display:inline\" align=\"right\">\n",
    "\n",
    "This libary is providing python wrappers for the famous _Insight Segmentation and Registration Toolkit_ (ITK). While ITK is a powerful tool when it comes to tasks related to segmentation or registration, using it its bare API can require quite sophisticated code. Compared to that, SimpleITK features a convenient approach to ITK with simpler function signatures and high code readability. Note the different use cases of _SimpleITK_ mainly for segmentation and registration compared to _scikit-image_ for more basic tasks like feature detection, filtering, etc.\n",
    "\n",
    "In this lab, we will briefly introduce the basic image class and some of its properties. More detailed instructions will follow in subsequent labs."
   ]
  },
  {
   "cell_type": "markdown",
   "metadata": {},
   "source": [
    "### Image I/O\n",
    "\n",
    "As we saw in the previous section, _scikit-image_ provides functionality for reading and writing images. However, this is intended for two-dimensional images only. In contrast to that, _SimpleITK_ is able to read arbitraryly shaped images and further supports more image formats like DICOM or NIFTI.\n",
    "\n",
    "##### Task 5.1\n",
    "\n",
    "Read the image 'image_head.dcm' (it is DICOM format)! You find an example in http://insightsoftwareconsortium.github.io/SimpleITK-Notebooks/Python_html/03_Image_Details.html (see second code cell)."
   ]
  },
  {
   "cell_type": "code",
   "execution_count": 11,
   "metadata": {},
   "outputs": [
    {
     "ename": "RuntimeError",
     "evalue": "Exception thrown in SimpleITK ReadImage: C:\\d\\VS14-Win64-pkg\\SimpleITK\\Code\\IO\\src\\sitkImageReaderBase.cxx:99:\nsitk::ERROR: The file \"C:\\Users\\Andrés\\Desktop\\image_head.dcm\" does not exist.",
     "output_type": "error",
     "traceback": [
      "\u001b[1;31m---------------------------------------------------------------------------\u001b[0m",
      "\u001b[1;31mRuntimeError\u001b[0m                              Traceback (most recent call last)",
      "\u001b[1;32m<ipython-input-11-da592470ec0d>\u001b[0m in \u001b[0;36m<module>\u001b[1;34m()\u001b[0m\n\u001b[0;32m      7\u001b[0m \u001b[1;31m# TODO: read the image #\u001b[0m\u001b[1;33m\u001b[0m\u001b[1;33m\u001b[0m\u001b[0m\n\u001b[0;32m      8\u001b[0m \u001b[1;33m\u001b[0m\u001b[0m\n\u001b[1;32m----> 9\u001b[1;33m \u001b[0mim_obj\u001b[0m \u001b[1;33m=\u001b[0m \u001b[0msitk\u001b[0m\u001b[1;33m.\u001b[0m\u001b[0mReadImage\u001b[0m\u001b[1;33m(\u001b[0m\u001b[0mfilename\u001b[0m\u001b[1;33m)\u001b[0m\u001b[1;33m\u001b[0m\u001b[0m\n\u001b[0m",
      "\u001b[1;32mC:\\Anaconda3\\lib\\site-packages\\SimpleITK\\SimpleITK.py\u001b[0m in \u001b[0;36mReadImage\u001b[1;34m(*args)\u001b[0m\n\u001b[0;32m   8874\u001b[0m \u001b[1;33m\u001b[0m\u001b[0m\n\u001b[0;32m   8875\u001b[0m     \"\"\"\n\u001b[1;32m-> 8876\u001b[1;33m     \u001b[1;32mreturn\u001b[0m \u001b[0m_SimpleITK\u001b[0m\u001b[1;33m.\u001b[0m\u001b[0mReadImage\u001b[0m\u001b[1;33m(\u001b[0m\u001b[1;33m*\u001b[0m\u001b[0margs\u001b[0m\u001b[1;33m)\u001b[0m\u001b[1;33m\u001b[0m\u001b[0m\n\u001b[0m\u001b[0;32m   8877\u001b[0m \u001b[1;32mclass\u001b[0m \u001b[0mImageViewer\u001b[0m\u001b[1;33m(\u001b[0m\u001b[0m_object\u001b[0m\u001b[1;33m)\u001b[0m\u001b[1;33m:\u001b[0m\u001b[1;33m\u001b[0m\u001b[0m\n\u001b[0;32m   8878\u001b[0m     \"\"\"\n",
      "\u001b[1;31mRuntimeError\u001b[0m: Exception thrown in SimpleITK ReadImage: C:\\d\\VS14-Win64-pkg\\SimpleITK\\Code\\IO\\src\\sitkImageReaderBase.cxx:99:\nsitk::ERROR: The file \"C:\\Users\\Andrés\\Desktop\\image_head.dcm\" does not exist."
     ]
    }
   ],
   "source": [
    "import SimpleITK as sitk\n",
    "\n",
    "\n",
    "# define name of image file #\n",
    "filename = os.path.abspath('image_head.dcm')\n",
    "\n",
    "# TODO: read the image #\n",
    "\n",
    "im_obj = sitk.ReadImage(filename)"
   ]
  },
  {
   "cell_type": "markdown",
   "metadata": {},
   "source": [
    "### The SimpleITK Image object\n",
    "\n",
    "In _SimpleITK_ an image (like 'im_obj') is not a simple numpy array, but comprises a lot of meta data as well as functions to access the actual image and meta data.\n",
    "\n",
    "##### Task 5.2\n",
    "\n",
    "Check the type of 'im_obj'! (Check the second code cell if you don't remember how to do it ;) )"
   ]
  },
  {
   "cell_type": "code",
   "execution_count": null,
   "metadata": {
    "collapsed": true
   },
   "outputs": [],
   "source": [
    "# TODO: print the type of 'im_obj' #\n",
    "print(\"The type of 'im_obj' is {}.\".format(type(im_obj)))"
   ]
  },
  {
   "cell_type": "markdown",
   "metadata": {},
   "source": [
    "Too see which information you might retrieve from an 'Image' object, you can use the command 'dir'. It will print a lot of functions. However, you should focus on those on the top (without the trailing '__')."
   ]
  },
  {
   "cell_type": "code",
   "execution_count": null,
   "metadata": {
    "collapsed": true,
    "scrolled": true
   },
   "outputs": [],
   "source": [
    "dir(sitk.Image)"
   ]
  },
  {
   "cell_type": "markdown",
   "metadata": {},
   "source": [
    "Some interesting commands are\n",
    " * GetSize\n",
    " * GetSpacing\n",
    " * GetDimension\n",
    " * GetDepth\n",
    " * GetHeight\n",
    " * GetWidth\n",
    " * GetNumberOfComponentsPerPixel.\n",
    "\n",
    "##### Task 5.3\n",
    "\n",
    "Retrieve the mentioned information from the image object! Do you understand their meaning? If not, have a look at the IPython notebook tutorial specified above."
   ]
  },
  {
   "cell_type": "code",
   "execution_count": null,
   "metadata": {
    "collapsed": true
   },
   "outputs": [],
   "source": [
    "print(\"Size: {}\".format(# ... #))\n",
    "print(\"Spacing: {}\".format(# ... #))\n",
    "print(\"Dimension: {}\".format(# ... #))\n",
    "print(\"Depth: {}\".format(# ... #))\n",
    "print(\"Height: {}\".format(# ... #))\n",
    "print(\"Width: {}\".format(# ... #))\n",
    "print(\"NumberOfComponentsPerPixel: {}\".format(# ... #))"
   ]
  },
  {
   "cell_type": "markdown",
   "metadata": {},
   "source": [
    "To retrieve all that information at once it is possible to just print the whole object directly."
   ]
  },
  {
   "cell_type": "code",
   "execution_count": null,
   "metadata": {
    "collapsed": true,
    "scrolled": true
   },
   "outputs": [],
   "source": [
    "print(im_obj)"
   ]
  },
  {
   "cell_type": "markdown",
   "metadata": {},
   "source": [
    "### Data access\n",
    "\n",
    "Of course one is usually interested in accessing the image data directly. For that purpose _SimpleITK_ provides a function _GetArrayViewFromImage_ which returns a 'ndarray' of the given image. The term '_view_' indicates, that the data in the 'ndarray' is exactly the same as in the image object, i.e. if the array is modified the image object is as well.\n",
    "\n",
    "##### Task 5.4\n",
    "\n",
    "Use the _GetArrayViewFromImage_ function to plot the loaded image with pyplot's _imshow_ as you did above!"
   ]
  },
  {
   "cell_type": "code",
   "execution_count": null,
   "metadata": {
    "collapsed": true
   },
   "outputs": [],
   "source": [
    "# TODO: obtain 'ndarray' #\n",
    "im_array = # ... #"
   ]
  },
  {
   "cell_type": "markdown",
   "metadata": {},
   "source": [
    "NOTE: The dimensionality of 'im_array' must be 2D for plotting. You can remove all singular dimensions of an 'ndarray' using the function _squeeze_ (as in Matlab)."
   ]
  },
  {
   "cell_type": "code",
   "execution_count": null,
   "metadata": {
    "collapsed": true
   },
   "outputs": [],
   "source": [
    "# remove singular dimensions of 'im_array' #\n",
    "im_array = im_array.squeeze()"
   ]
  },
  {
   "cell_type": "markdown",
   "metadata": {},
   "source": [
    "Now you're ready to plot :)"
   ]
  },
  {
   "cell_type": "code",
   "execution_count": null,
   "metadata": {
    "collapsed": true
   },
   "outputs": [],
   "source": [
    "# TODO: plot the image #\n",
    "# ... #\n",
    "# ... #\n",
    "# ... #"
   ]
  },
  {
   "cell_type": "markdown",
   "metadata": {},
   "source": [
    "# MeVisLab <img src=\"mevislab.jpeg\" width=\"100px\" style=\"display:inline\" align=\"right\">\n",
    "\n",
    "The software _MeVisLab_ is a freely available tool for medical image processing and visualisation. It has a standalone graphical user interface and its common usage is based on _graphical programming_. This enables the user to easily create a processing pipeline by simply arranging algorithm objects and connecting them with each other.\n",
    "\n",
    "While it provides a wide range of functionalities (probably everything that we do in the labs here), we focus on how to use it for visualisation purposes which might be useful to you in some of the upcomming labs.\n",
    "\n",
    "**NOTE**: In order to find a specific module, use the search bar on top of the _MeVisLab_ GUI.\n",
    "\n",
    "### Reading an image <img src=\"mevislab_read.png\" width=\"400px\" style=\"display:inline\" align=\"right\">\n",
    "\n",
    "For reading image files the following two modules are most useful:\n",
    " * _DirectDicomImport_  -  reading dicom files\n",
    " * _itkImageFileReader_  -  reading any other image file e.g. NIFTI, png, ...\n",
    "\n",
    "##### Task 6.1\n",
    "\n",
    "Find the _itkImageFileReader_ for loading an image and put it into your workspace! Double-click on the icon, locate an image file (e.g. 'matplotlib.png') and press the 'Open' button.\n",
    "\n",
    "### Visualising an image\n",
    "\n",
    "There are two interesting modules for visualising image data in a simple way:\n",
    " * _View2D_\n",
    " * _View3D_.\n",
    "\n",
    "##### Task 6.2\n",
    "\n",
    "Put one of the mentioned image viewer modules into your workspace. Then connect the leftmost triangle of the image reader with the one of the viewer module by _drag and drop_. Double-click on the viewer to see the image!\n",
    "\n",
    "##### Task 6.3\n",
    "\n",
    "Now load the dicom image ('image_head.dcm') by using the module _DirectDicomImport_ (include module in workspace, double click on icon, specify folder as _Source Dir_, press 'Import' button) and use the other viewer module to view the image!"
   ]
  },
  {
   "cell_type": "markdown",
   "metadata": {},
   "source": [
    "# Congratulations!\n",
    "\n",
    "You have managed to work through this lab! Well done! :) Now tell your lab assistant what you did and you're done ..."
   ]
  }
 ],
 "metadata": {
  "kernelspec": {
   "display_name": "Python 3",
   "language": "python",
   "name": "python3"
  },
  "language_info": {
   "codemirror_mode": {
    "name": "ipython",
    "version": 3
   },
   "file_extension": ".py",
   "mimetype": "text/x-python",
   "name": "python",
   "nbconvert_exporter": "python",
   "pygments_lexer": "ipython3",
   "version": "3.6.3"
  }
 },
 "nbformat": 4,
 "nbformat_minor": 1
}
