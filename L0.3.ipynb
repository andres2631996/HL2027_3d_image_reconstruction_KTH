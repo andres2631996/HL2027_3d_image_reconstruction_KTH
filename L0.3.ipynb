{
 "cells": [
  {
   "cell_type": "markdown",
   "metadata": {},
   "source": [
    "# L0.3 - Basic image processing\n",
    "\n",
    "In this lab you will solve a small collection of image processing tasks. These are kept simple and should help you to understand some basic concepts as well as to get acquainted with the previously introduced libraries and tools.\n",
    "\n",
    "Intended time: **max 1.5 hours**\n",
    "\n",
    "Questions to: **daniel.jorgens@sth.kth.se**\n",
    "\n",
    "### References\n",
    " 1. http://scikit-image.org/docs/dev/: Documentation of _scikit-image_. Use the search functionality to find suitable functions for your purposes.\n",
    " 2. http://insightsoftwareconsortium.github.io/SimpleITK-Notebooks/Python_html/03_Image_Details.html: Hints on how to load an image in _SimpleITK_.\n",
    " 3. https://docs.scipy.org/doc/scipy/reference/ndimage.html: Documentation of _ndimage_ subpackage of _SciPy_."
   ]
  },
  {
   "cell_type": "markdown",
   "metadata": {},
   "source": [
    "### Helper functions\n",
    "\n",
    "The following cell defines a function for convenient plotting that you can use for the subsequent tasks."
   ]
  },
  {
   "cell_type": "code",
   "execution_count": 1,
   "metadata": {
    "collapsed": true
   },
   "outputs": [],
   "source": [
    "def plot_param_series(im_series, param_series, series_name, param_name):\n",
    "    \"\"\"\n",
    "    Plot a series of images in one row. Include the corresponding parameter\n",
    "    given to the function in the title. Name of image series and parameter\n",
    "    name are always used in the same way ('<series_name> (<param_name> = <value>)').\n",
    "    \n",
    "    :param im_series: contains images to be plotted\n",
    "    :type im_series: list of numpy arrays\n",
    "    :param param_series: contains parameter values corresponding to the images in 'im_series'\n",
    "    :type param_series: list of scalars\n",
    "    :param series_name: see above\n",
    "    :type series_name: str\n",
    "    :param param_name: see above\n",
    "    :type param_name: str\n",
    "    :rtype: None\n",
    "    \"\"\"\n",
    "    \n",
    "    # plot results #\n",
    "    plt.figure(figsize=(20, 8))\n",
    "\n",
    "    plt_opts = dict(vmin=im_series[0].min(), vmax=im_series[0].max())\n",
    "    \n",
    "    for i, (im, param) in enumerate(zip(im_series, param_series)):\n",
    "        ax = plt.subplot(1, len(im_series), i+1)\n",
    "        ax.imshow(im, **plt_opts)\n",
    "        ax.set_title(\"{} ({} = {})\".format(series_name, param_name, param))\n",
    "\n",
    "    plt.show()"
   ]
  },
  {
   "cell_type": "code",
   "execution_count": 2,
   "metadata": {
    "collapsed": true
   },
   "outputs": [],
   "source": [
    "def plot_sub_image(im, pos, title=None, size=(1, 5), plt_opts=dict()):\n",
    "    \"\"\"\n",
    "    Add another axis object to subplot layout defined by given 'size' parameter.\n",
    "    \n",
    "    :param im: image to plot\n",
    "    :type im: numpy array\n",
    "    :param pos: position in subplot layout\n",
    "    :type pos: integer\n",
    "    :param title: title of image\n",
    "    :type title: str\n",
    "    :param size: number of rows and columns of subplot layout\n",
    "    :type size: 2-tuple of integers\n",
    "    :param plt_opts: additional options passed to pyplot's 'imshow' function\n",
    "    :type plt_opts: dict\n",
    "    :return: created Axes object\n",
    "    :rtype: matplotlib.axes.Axes\n",
    "    \"\"\"\n",
    "    \n",
    "    ax = plt.subplot(size[0], size[1], pos)\n",
    "    ax.imshow(im, **plt_opts)\n",
    "    ax.set_title(title)\n",
    "    \n",
    "    return ax"
   ]
  },
  {
   "cell_type": "markdown",
   "metadata": {},
   "source": [
    "# Histograms\n",
    "\n",
    "Histograms are one way to analyse the content of an image."
   ]
  },
  {
   "cell_type": "markdown",
   "metadata": {},
   "source": [
    "#### Task 1.a\n",
    " * Load an image. Use a suitable function in _SimpleITK_.\n",
    " * Convert it to a numpy array.\n",
    " * Plot the image and the histogram. Use a suitable functions in _matplotlib_ for both.\n",
    "\n",
    "Explain the shape of the histogram and explain its relation to the image! What happens if you vary the number of bins in the histogram?"
   ]
  },
  {
   "cell_type": "code",
   "execution_count": 3,
   "metadata": {},
   "outputs": [
    {
     "ename": "RuntimeError",
     "evalue": "Exception thrown in SimpleITK ReadImage: C:\\d\\VS14-Win64-pkg\\SimpleITK\\Code\\IO\\src\\sitkImageReaderBase.cxx:99:\nsitk::ERROR: The file \"C:\\Users\\Andrés\\Desktop\\image_head.dcm\" does not exist.",
     "output_type": "error",
     "traceback": [
      "\u001b[1;31m---------------------------------------------------------------------------\u001b[0m",
      "\u001b[1;31mRuntimeError\u001b[0m                              Traceback (most recent call last)",
      "\u001b[1;32m<ipython-input-3-3513e726b069>\u001b[0m in \u001b[0;36m<module>\u001b[1;34m()\u001b[0m\n\u001b[0;32m      4\u001b[0m \u001b[1;31m# TODO: use SimpleITK to load the image file 'image_head.dcm' #\u001b[0m\u001b[1;33m\u001b[0m\u001b[1;33m\u001b[0m\u001b[0m\n\u001b[0;32m      5\u001b[0m \u001b[0mfilename\u001b[0m \u001b[1;33m=\u001b[0m \u001b[0mos\u001b[0m\u001b[1;33m.\u001b[0m\u001b[0mpath\u001b[0m\u001b[1;33m.\u001b[0m\u001b[0mabspath\u001b[0m\u001b[1;33m(\u001b[0m\u001b[1;34m'image_head.dcm'\u001b[0m\u001b[1;33m)\u001b[0m\u001b[1;33m\u001b[0m\u001b[0m\n\u001b[1;32m----> 6\u001b[1;33m \u001b[0mim\u001b[0m \u001b[1;33m=\u001b[0m \u001b[0msitk\u001b[0m\u001b[1;33m.\u001b[0m\u001b[0mReadImage\u001b[0m\u001b[1;33m(\u001b[0m\u001b[0mfilename\u001b[0m\u001b[1;33m)\u001b[0m\u001b[1;33m\u001b[0m\u001b[0m\n\u001b[0m\u001b[0;32m      7\u001b[0m \u001b[1;33m\u001b[0m\u001b[0m\n\u001b[0;32m      8\u001b[0m \u001b[1;31m# TODO: convert the ITK image object to a numpy array #\u001b[0m\u001b[1;33m\u001b[0m\u001b[1;33m\u001b[0m\u001b[0m\n",
      "\u001b[1;32mC:\\Anaconda3\\lib\\site-packages\\SimpleITK\\SimpleITK.py\u001b[0m in \u001b[0;36mReadImage\u001b[1;34m(*args)\u001b[0m\n\u001b[0;32m   8874\u001b[0m \u001b[1;33m\u001b[0m\u001b[0m\n\u001b[0;32m   8875\u001b[0m     \"\"\"\n\u001b[1;32m-> 8876\u001b[1;33m     \u001b[1;32mreturn\u001b[0m \u001b[0m_SimpleITK\u001b[0m\u001b[1;33m.\u001b[0m\u001b[0mReadImage\u001b[0m\u001b[1;33m(\u001b[0m\u001b[1;33m*\u001b[0m\u001b[0margs\u001b[0m\u001b[1;33m)\u001b[0m\u001b[1;33m\u001b[0m\u001b[0m\n\u001b[0m\u001b[0;32m   8877\u001b[0m \u001b[1;32mclass\u001b[0m \u001b[0mImageViewer\u001b[0m\u001b[1;33m(\u001b[0m\u001b[0m_object\u001b[0m\u001b[1;33m)\u001b[0m\u001b[1;33m:\u001b[0m\u001b[1;33m\u001b[0m\u001b[0m\n\u001b[0;32m   8878\u001b[0m     \"\"\"\n",
      "\u001b[1;31mRuntimeError\u001b[0m: Exception thrown in SimpleITK ReadImage: C:\\d\\VS14-Win64-pkg\\SimpleITK\\Code\\IO\\src\\sitkImageReaderBase.cxx:99:\nsitk::ERROR: The file \"C:\\Users\\Andrés\\Desktop\\image_head.dcm\" does not exist."
     ]
    }
   ],
   "source": [
    "import os\n",
    "import SimpleITK as sitk\n",
    "\n",
    "# TODO: use SimpleITK to load the image file 'image_head.dcm' #\n",
    "filename = os.path.abspath('image_head.dcm')\n",
    "im = sitk.ReadImage(filename)\n",
    "\n",
    "# TODO: convert the ITK image object to a numpy array #\n",
    "im_array = sitk.GetArrayFromImage(im)\n"
   ]
  },
  {
   "cell_type": "code",
   "execution_count": null,
   "metadata": {
    "collapsed": true
   },
   "outputs": [],
   "source": [
    "import matplotlib.pyplot as plt\n",
    "\n",
    "from matplotlib import rcParams\n",
    "rcParams['font.size'] = 20\n",
    "\n",
    "# TODO: define number of bins for histogram #\n",
    "nbins = 20\n",
    "\n",
    "# create a new figure #\n",
    "plt.figure(figsize=(20,8))\n",
    "\n",
    "# original image #\n",
    "plt.subplot(1, 2, 1)\n",
    "# TODO: use matplotlib's function for showing an image #\n",
    "plt.imshow(im_array)\n",
    "plt.subplot(1, 2, 2)\n",
    "# TODO: use matplotlib's histogram function; specify number of bins #\n",
    "plt.hist(im_array,nbins)\n",
    "\n",
    "# choose the colormap #\n",
    "plt.set_cmap('gray')\n",
    "\n",
    "# make plots visible #\n",
    "plt.show()"
   ]
  },
  {
   "cell_type": "markdown",
   "metadata": {},
   "source": [
    "# Convolution\n",
    "\n",
    "The convolution of a function $f$ with a filter $k$ is defined as $\\mathrm{C}_k[f] = \\int_{\\mathbb{R}^n} k(s)f(s-x) \\, \\mathrm{d^n}x$.\n",
    "In case $k$ is separable this operation can be decomposed into $n$ convolutions with one-dimensional filters $k_1, ..., k_n$ for which $k(s) = k_1(s_1) \\cdot \\ldots \\cdot k_n(s_n)$ where $s \\in \\mathbb{R}^n$.\n",
    "\n",
    "In this section you will confirm this relationship."
   ]
  },
  {
   "cell_type": "markdown",
   "metadata": {},
   "source": [
    "#### Task 2\n",
    "\n",
    "* Create a 1d kernel and derive a 2d kernel by computing the outer product of the 1d kernel with itself. Use _Numpy_ for that.\n",
    "* Obtain $g_k := \\mathrm{C}_k[f]$ and $g_{k_{1,2}} := \\mathrm{C}_{k_2} \\circ \\mathrm{C}_{k_1}[f]$ by performing one 2d convolution and two 1d convolutions, respectively. Use _Scipy_ for the convolution.\n",
    "* Compute the difference image of $g_k$ and $g_{k_{1,2}}$.\n",
    "* Plot the original image, the two convolution results $g_k$ and $g_{k_{1,2}}$ as well as their difference image.\n",
    "\n",
    "Are $g_k$ and $g_{k_{1,2}}$ identical? What kind of structures to you obtain with the chosen filter?"
   ]
  },
  {
   "cell_type": "code",
   "execution_count": null,
   "metadata": {
    "collapsed": true
   },
   "outputs": [],
   "source": [
    "import numpy as np\n",
    "from scipy.ndimage.filters import # ... #  # TODO: imports #\n",
    "\n",
    "# define convolution kernel #\n",
    "k_1d = [-1,0,1]  # TODO: define a 1d kernel for computing the difference of subsequent values #\n",
    "k_2d = np.outer(k_1d,k_1d)  # TODO: compute a 2d kernel from its 1d version (hint: outer product) #\n",
    "print(\"This is the computed kernel: \\n {}\".format(k_2d))\n",
    "\n",
    "# perform convolution #\n",
    "im_conv = np.convolve(im_array,k_2d,mode='same')  # TODO: perform one 2d convolution; choose a border mode #\n",
    "im_conv12 = np.convolve(np.convolve(im_array,k_1d,mode='same'),k_1d.T,mode='same')  # TODO: perform two 1d convolutions\n",
    "\n",
    "# compute difference image #\n",
    "im_diff = im_conv12-im_conv  # TODO: compute difference #"
   ]
  },
  {
   "cell_type": "code",
   "execution_count": null,
   "metadata": {
    "collapsed": true
   },
   "outputs": [],
   "source": [
    "# plot results #\n",
    "plt.figure(figsize=(20, 8))\n",
    "\n",
    "plt_sz = (1, 4)\n",
    "plt_opts = dict(vmin=im_conv.min(), vmax=im_conv.max())\n",
    "\n",
    "plot_sub_image(im_array,  1, title=\"Original\",            size=plt_sz)\n",
    "plot_sub_image(im_conv,   2, title=\"$g_k$\",               size=plt_sz, plt_opts=plt_opts)\n",
    "plot_sub_image(im_conv12, 3, title=\"$g_{k_{1,2}}$\",       size=plt_sz, plt_opts=plt_opts)\n",
    "plot_sub_image(im_diff,   4, title=\"$g_k - g_{k_{1,2}}$\", size=plt_sz, plt_opts=plt_opts)\n",
    "\n",
    "plt.show()"
   ]
  },
  {
   "cell_type": "markdown",
   "metadata": {},
   "source": [
    "# Image filtering\n",
    "\n",
    "The choice of convolution kernel determines the kind of features visible in the output image. Choosing the famous Gaussian kernel results in a blurred output image."
   ]
  },
  {
   "cell_type": "markdown",
   "metadata": {},
   "source": [
    "#### Task 3.a\n",
    "\n",
    "* Use gaussian filtering to blur an image. There is a _Scipy_ function for applying a gaussian filter directly.\n",
    "* Vary the gaussian standard deviation $\\sigma$.\n",
    "\n",
    "What is the effect of increasing $\\sigma$?"
   ]
  },
  {
   "cell_type": "code",
   "execution_count": null,
   "metadata": {
    "collapsed": true
   },
   "outputs": [],
   "source": [
    "from scipy.ndimage.filters import gaussian_filter  # TODO: imports #\n",
    "\n",
    "# define series of standard devs for gaussian kernel #\n",
    "sigma_list = range(5)\n",
    "\n",
    "im_gauss_list = list()\n",
    "for sigma in sigma_list:\n",
    "    im_gauss = gaussian_filter(im_array,sigma)  # TODO: apply gaussian filter to image; use given 'sigma' #\n",
    "    im_gauss_list.append(im_gauss)"
   ]
  },
  {
   "cell_type": "code",
   "execution_count": null,
   "metadata": {
    "collapsed": true
   },
   "outputs": [],
   "source": [
    "# plot results #\n",
    "plot_param_series(im_gauss_list, sigma_list, 'Gauss', '$\\sigma$')"
   ]
  },
  {
   "cell_type": "markdown",
   "metadata": {},
   "source": [
    "#### Task 3.b\n",
    "\n",
    "In the lecture it is mentioned that repeated filtering with a gaussian kernel with std dev $\\sigma_1$ is equivalent to filtering with a kernel with std dev $\\sigma_2 > \\sigma_1$. Investigate this claim!\n",
    "\n",
    "* Apply a gaussian filter with fixed $\\sigma$ repeatedly.\n",
    "* Choose a filtering reference from **Task 3.a** obtained with a single filtering pass ($\\sigma_r$).\n",
    "* Compute the difference image of that reference with each of the filtering repetitions.\n",
    "* Plot the results from repeated filtering as well as the corresponding difference images.\n",
    "\n",
    "What do you observe? What number of repetitions are needed to obtain the same result with repeated filtering? Vary the choices of $\\sigma_r$ and $\\sigma_{rep}$!"
   ]
  },
  {
   "cell_type": "code",
   "execution_count": null,
   "metadata": {
    "collapsed": true
   },
   "outputs": [],
   "source": [
    "# define repetitions for gaussian filtering #\n",
    "rep_list = range(5)\n",
    "\n",
    "# choose gaussian std dev #\n",
    "sigma_rep = 3  # TODO: vary gaussian sigma for repeated filtering #\n",
    "\n",
    "im_gauss_rep_list = list()\n",
    "im_gauss_rep = im_array  # used for recursive implementation #\n",
    "for _ in rep_list:\n",
    "    im_gauss_rep = gaussian_filter(im_gauss_rep,sigma_rep)  # TODO: apply gaussian filter to image #\n",
    "    im_gauss_rep_list.append(im_gauss_rep)"
   ]
  },
  {
   "cell_type": "code",
   "execution_count": null,
   "metadata": {
    "collapsed": true
   },
   "outputs": [],
   "source": [
    "# choose a directly gaussian filtered image as reference #\n",
    "sigma_ref = 2  # TODO: vary the reference image #\n",
    "im_gauss_reference = im_gauss_list[sigma_ref]\n",
    "\n",
    "# plot results #\n",
    "print(\"Repeating gaussian filtering (sigma = {}) ... \".format(sigma_rep))\n",
    "\n",
    "plot_param_series(im_gauss_rep_list, rep_list, 'Mean', 'reps')\n",
    "\n",
    "# compute list of difference images #\n",
    "diff_gauss_rep_list = list(map(lambda x: x - im_gauss_reference, im_gauss_rep_list))\n",
    "plot_param_series(diff_gauss_rep_list, [sigma_ref]*len(diff_gauss_rep_list), 'diff', '$\\sigma_r$')"
   ]
  },
  {
   "cell_type": "markdown",
   "metadata": {},
   "source": [
    "#### Task 3.c\n",
    "\n",
    "In the lecture it is mentioned that repeated mean filtering can give similar results as gaussian filtering. Check this claim!\n",
    "\n",
    "* Define a mean kernel. Use a _Numpy_ array for that purpose.\n",
    "* Apply the mean filter repeatedly to the image as in **Task 3.b**. You may use the same approach as in **Task 3.a**.\n",
    "* Pick a reference image as in **Task 3.b** and compute the difference images for all repetitions.\n",
    "* Plot the resulting filtered images as well as the difference images.\n",
    "\n",
    "What do you observe? How many repetitions are needed to obtain a similar result as with gaussian filtering? Vary the choice of $\\sigma_r$!"
   ]
  },
  {
   "cell_type": "code",
   "execution_count": null,
   "metadata": {
    "collapsed": true
   },
   "outputs": [],
   "source": [
    "from scipy.ndimage.filters import uniform_filter\n",
    "# define repetitions for mean filtering #\n",
    "rep_list = range(5)\n",
    "\n",
    "# TODO: define a mean filter in 2D #\n",
    "mean_kernel = np.full((3,3),1/9)  # TODO: define 3x3 mean filter using 'numpy.full' #\n",
    "\n",
    "im_mean_list = list()\n",
    "im_mean = im_array  # used for recursive implementation #\n",
    "for _ in rep_list:\n",
    "    im_mean = uniform_filter(im_mean)  # TODO: apply mean filter to image #\n",
    "    im_mean_list.append(im_mean)"
   ]
  },
  {
   "cell_type": "code",
   "execution_count": null,
   "metadata": {
    "collapsed": true
   },
   "outputs": [],
   "source": [
    "# choose a gaussian filtered image as reference #\n",
    "sigma_ref = 2  # TODO: vary the reference image #\n",
    "im_gauss_reference = im_gauss_list[sigma_ref]\n",
    "\n",
    "# plot results #\n",
    "print(\"Repeating mean filtering ... \")\n",
    "\n",
    "plot_param_series(im_mean_list, rep_list, '', 'repetitions')\n",
    "\n",
    "# create list of difference images #\n",
    "diff_mean_list = list(map(lambda x: x - im_gauss_reference, im_mean_list))\n",
    "plot_param_series(diff_mean_list, [sigma_ref]*len(diff_mean_list), 'diff', '$\\sigma$')"
   ]
  },
  {
   "cell_type": "markdown",
   "metadata": {},
   "source": [
    "# Edge detection\n",
    "\n",
    "Filters that provide an approximation of the image gradient can be used for edge detection. Here, you will compare different of such filter kernels."
   ]
  },
  {
   "cell_type": "markdown",
   "metadata": {},
   "source": [
    "#### Task 4.a\n",
    "\n",
    "* Apply the two (omit finite differences, you have used them already ;) ) filters for approximation of the image gradient magnitude mentioned in the lecture. You find suitable implementations in _scikit-image_.\n",
    "* Apply the filters after gaussian smoothing. Reuse results from the previous tasks.\n",
    "* Plot and compare the results.\n",
    "\n",
    "Are there differences between the two filters? Do both have the same level of rotational variance? What is the effect of the gaussian smoothing prior to the filtering?"
   ]
  },
  {
   "cell_type": "code",
   "execution_count": null,
   "metadata": {
    "collapsed": true
   },
   "outputs": [],
   "source": [
    "from skimage.filters import sobel  # TODO: imports #\n",
    "from skimage.filters import prewitt\n",
    "# apply the filters to 'im_array' #\n",
    "im_sobel = sobel(im_array)  # TODO: apply sobel filter #\n",
    "im_prewitt = prewitt(im_array)  # TODO: apply prewitt filter #"
   ]
  },
  {
   "cell_type": "code",
   "execution_count": null,
   "metadata": {
    "collapsed": true
   },
   "outputs": [],
   "source": [
    "# pick gaussian filtered image as reference #\n",
    "sigma_edge = 1  # TODO: vary 'sigma_edge' #\n",
    "im_gauss_ref_edge = im_gauss_list[sigma_edge]\n",
    "\n",
    "# apply filters to the chosen, gaussian-filtered reference image #\n",
    "im_gauss_sobel = sobel(im_gauss)  # TODO: apply sobel filter #\n",
    "im_gauss_prewitt = prewitt(im_gauss)  # TODO: apply prewitt filter #"
   ]
  },
  {
   "cell_type": "code",
   "execution_count": null,
   "metadata": {
    "collapsed": true
   },
   "outputs": [],
   "source": [
    "# plot results #\n",
    "plt.figure(figsize=(20, 16))\n",
    "\n",
    "plt_sz = (3, 4)\n",
    "\n",
    "plot_sub_image(im_array,   1, title=\"Original\", size=plt_sz)\n",
    "plot_sub_image(im_sobel,   2, title=\"Sobel\",    size=plt_sz, plt_opts=dict(vmin=0, vmax=im_sobel.max()))\n",
    "plot_sub_image(im_prewitt, 3, title=\"Prewitt\",  size=plt_sz, plt_opts=dict(vmin=0, vmax=im_sobel.max()))\n",
    "\n",
    "diff_sobel_prewitt = im_sobel - im_prewitt\n",
    "plot_sub_image(diff_sobel_prewitt, 4, title=\"{:5.4f} / {:5.4f}\".format(diff_sobel_prewitt.min(),\n",
    "                                                                       diff_sobel_prewitt.max()),\n",
    "               size=plt_sz)\n",
    "\n",
    "plot_sub_image(im_gauss_ref_edge,  5, title=\"Original ($\\sigma = {}$)\".format(sigma_edge), size=plt_sz)\n",
    "plot_sub_image(im_gauss_sobel,     6, title=\"Sobel ($\\sigma = {}$)\".format(sigma_edge),    size=plt_sz,\n",
    "               plt_opts=dict(vmin=0, vmax=im_gauss_sobel.max()))\n",
    "plot_sub_image(im_gauss_prewitt,   7, title=\"Prewitt ($\\sigma = {}$)\".format(sigma_edge),  size=plt_sz,\n",
    "               plt_opts=dict(vmin=0, vmax=im_gauss_sobel.max()))\n",
    "\n",
    "diff_gauss_sobel_prewitt = im_gauss_sobel - im_gauss_prewitt\n",
    "plot_sub_image(diff_gauss_sobel_prewitt, 8, title=\"{:5.4f} / {:5.4f}\".format(diff_gauss_sobel_prewitt.min(),\n",
    "                                                                             diff_gauss_sobel_prewitt.max()),\n",
    "               size=plt_sz)\n",
    "\n",
    "diff_orig = im_array - im_gauss_ref_edge\n",
    "plot_sub_image(diff_orig,     9, title=\"{:5.1f} / {:5.1f}\".format(diff_orig.min(), diff_orig.max()),       size=plt_sz)\n",
    "\n",
    "diff_sobel = im_sobel - im_gauss_sobel\n",
    "plot_sub_image(diff_sobel,   10, title=\"{:5.4f} / {:5.4f}\".format(diff_sobel.min(), diff_sobel.max()),     size=plt_sz)\n",
    "\n",
    "diff_prewitt = im_prewitt - im_gauss_prewitt\n",
    "plot_sub_image(diff_prewitt, 11, title=\"{:5.4f} / {:5.4f}\".format(diff_prewitt.min(), diff_prewitt.max()), size=plt_sz)\n",
    "\n",
    "diff_diffs = diff_sobel_prewitt - diff_gauss_sobel_prewitt \n",
    "plot_sub_image(diff_diffs,   12, title=\"{:5.4f} / {:5.4f}\".format(diff_diffs.min(), diff_diffs.max()),     size=plt_sz)\n",
    "\n",
    "plt.show()"
   ]
  },
  {
   "cell_type": "markdown",
   "metadata": {},
   "source": [
    "#### Task 4.b\n",
    "\n",
    "* Apply the Canny edge detector to the input image. You find an implementation in _scikit-image_.\n",
    "* Plot the result for several values of $\\sigma_{canny}$.\n",
    "* Vary the edge detectors parameters in order to obtain some result (in the standard setting nothing will appear).\n",
    "\n",
    "Do you manage to tune the detector in order to obtain any reasonable result? Which values to choose for its three parameters? How do they work (hint: have a look at the documentation)? What is the difference between the Canny edge detector and the filters used in **Task 4.a**?"
   ]
  },
  {
   "cell_type": "code",
   "execution_count": null,
   "metadata": {
    "collapsed": true
   },
   "outputs": [],
   "source": [
    "from skimage.feature import canny  # TODO: imports #\n",
    "\n",
    "# define list of sigma values used in Canny edge detector #\n",
    "sigma_canny_list = range(5)\n",
    "\n",
    "im_canny_list = list()\n",
    "for sigma_canny in sigma_canny_list:\n",
    "    # TODO: perform canny edge detection; specify 'sigma' and both thresholds #\n",
    "    im_canny = canny(im_array,sigma_canny,50,100)  # TODO: vary thresholds #\n",
    "    im_canny_list.append(im_canny)"
   ]
  },
  {
   "cell_type": "code",
   "execution_count": null,
   "metadata": {
    "collapsed": true
   },
   "outputs": [],
   "source": [
    "# plot results #\n",
    "plot_param_series(im_canny_list, sigma_canny_list, 'Canny', '$\\sigma$')"
   ]
  },
  {
   "cell_type": "markdown",
   "metadata": {},
   "source": [
    "# Resampling\n",
    "\n",
    "The process of changing the resolution of an image is also referred to as resampling. In case the target resolution is higher than the original one (i.e. the target image will have more pixels than the original), typically some kind of interpolation is involved."
   ]
  },
  {
   "cell_type": "markdown",
   "metadata": {},
   "source": [
    "#### Task 5\n",
    "\n",
    "* Define a subregion of the original image to investigate in this task.\n",
    "* Apply the three different kinds of interpolation that were discussed in the lecture.\n",
    "* Vary interpolation order and magnification factor.\n",
    "* Measure the computation time for each approach. Use the notebook magic _%time_.\n",
    "* Plot the results alongside each other.\n",
    "\n",
    "Are the results as you expected? Why? Which approach is better? Which is faster?"
   ]
  },
  {
   "cell_type": "code",
   "execution_count": null,
   "metadata": {
    "collapsed": true
   },
   "outputs": [],
   "source": [
    "from scipy.ndimage import zoom  # TODO: imports #\n",
    "\n",
    "# TODO: define list of interpolation orders #\n",
    "order_list = list(range(3))\n",
    "\n",
    "# define a subregion of the image (to see more details) #\n",
    "im_array_tile = im_array[40:60, 40:60]\n",
    "\n",
    "im_interp_list = list()\n",
    "for order_interp in order_list:\n",
    "    # TODO: resample the image; specify the magnification factor and interpolation order #\n",
    "    %time \n",
    "    z=2\n",
    "    im_interp=zoom(im_array_tile,z,order_interp)\n",
    "    # TODO: vary the magnification factor #\n",
    "    im_interp_list.append(im_interp)"
   ]
  },
  {
   "cell_type": "code",
   "execution_count": null,
   "metadata": {
    "collapsed": true
   },
   "outputs": [],
   "source": [
    "# plot results #\n",
    "plot_param_series(im_interp_list, order_list, 'Interp', 'order')\n",
    "\n",
    "# create list of difference images #\n",
    "interp_diff_list = list(map(lambda x: x - im_interp_list[-1], im_interp_list))\n",
    "plot_param_series(interp_diff_list, order_list, 'Diff', 'order')"
   ]
  },
  {
   "cell_type": "markdown",
   "metadata": {},
   "source": [
    "# Mathematical morphology\n",
    "\n",
    "The morphological operations that were discussed in the lecture are a way to explore the shape of structures contained in the image."
   ]
  },
  {
   "cell_type": "markdown",
   "metadata": {},
   "source": [
    "#### Task 6.a\n",
    "\n",
    "* Define a structuring element. You find predefined ones in _scikit-image_.\n",
    "* Apply all four operations discussed in the lecture to our test image. Their implementations can be found in _scikit-image_.\n",
    "* Plot the original image and the four results.\n",
    "\n",
    "Compare the effect of different structuring elements. Is there a difference in the result of the morphological operation? What happens if you change the size of the structuring element?"
   ]
  },
  {
   "cell_type": "code",
   "execution_count": null,
   "metadata": {
    "collapsed": true
   },
   "outputs": [],
   "source": [
    "from skimage.morphology import disk,dilation,erosion,closing,opening  # TODO: imports #\n",
    "\n",
    "# TODO: define structuring element (e.g. a disk of size 2) #\n",
    "selem = disk(2)  # TODO: vary size and type of element #\n",
    "\n",
    "# TODO: apply the four morphological operations #\n",
    "im_erode = erosion(im_array,selem)\n",
    "im_dilate = dilation(im_array,selem)\n",
    "im_open = opening(im_array,selem)\n",
    "im_close = closing(im_array,selem)"
   ]
  },
  {
   "cell_type": "code",
   "execution_count": null,
   "metadata": {
    "collapsed": true
   },
   "outputs": [],
   "source": [
    "# plot results #\n",
    "plt.figure(figsize=(20, 8))\n",
    "\n",
    "plt_sz = (1, 5)\n",
    "\n",
    "plot_sub_image(im_array,  1, title=\"Original\", size=plt_sz)\n",
    "plot_sub_image(im_erode,  2, title=\"Erosion\",  size=plt_sz)\n",
    "plot_sub_image(im_dilate, 3, title=\"Dilation\", size=plt_sz)\n",
    "plot_sub_image(im_open,   4, title=\"Opening\",  size=plt_sz)\n",
    "plot_sub_image(im_close,  5, title=\"Closing\",  size=plt_sz)\n",
    "\n",
    "plt.show()"
   ]
  },
  {
   "cell_type": "markdown",
   "metadata": {},
   "source": [
    "#### Task 6.b\n",
    "\n",
    "* Apply the operations *white_tophat* and *black_tophat* to the test image. The functions can be found in _scikit-image_.\n",
    "* Plot the original image and the two filtering results.\n",
    "\n",
    "What do these operations do? Explain the two filtering outputs!"
   ]
  },
  {
   "cell_type": "code",
   "execution_count": null,
   "metadata": {
    "collapsed": true
   },
   "outputs": [],
   "source": [
    "from skimage.morphology import white_tophat,black_tophat,square,rectangle,diamond  # TODO: imports #\n",
    "\n",
    "# TODO: define structuring element #\n",
    "selem = square(3)  # TODO: vary size and type of element #\n",
    "\n",
    "im_white_top = white_tophat(im_array,selem)  # TODO: apply 'white_tophat' operation #\n",
    "im_black_top = black_tophat(im_array,selem)  # TODO: apply 'black_tophat' operation #"
   ]
  },
  {
   "cell_type": "code",
   "execution_count": null,
   "metadata": {
    "collapsed": true
   },
   "outputs": [],
   "source": [
    "# plot results #\n",
    "plt.figure(figsize=(20, 8))\n",
    "\n",
    "plt_sz = (1, 3)\n",
    "\n",
    "plot_sub_image(im_array,     1, title=\"Original\",      size=plt_sz)\n",
    "plot_sub_image(im_white_top, 2, title=\"White top hat\", size=plt_sz)\n",
    "plot_sub_image(im_black_top, 3, title=\"Black top hat\", size=plt_sz)\n",
    "\n",
    "plt.show()"
   ]
  },
  {
   "cell_type": "markdown",
   "metadata": {},
   "source": [
    "# Distance transform\n",
    "\n",
    "A distance transform computes for each pixel in a mask the distance to the closest point on the border of that mask."
   ]
  },
  {
   "cell_type": "markdown",
   "metadata": {},
   "source": [
    "#### Task 7\n",
    "\n",
    "* Create a mask for the test image e.g. by simple thresholding. Use a numpy array to store it.\n",
    "* Compute the distance transform for that mask. _Scipy_ provides an implementation for that.\n",
    "* Plot the original image and the resulting transform.\n",
    "\n",
    "Does the result make sense? Explain what you see!"
   ]
  },
  {
   "cell_type": "code",
   "execution_count": null,
   "metadata": {
    "collapsed": true
   },
   "outputs": [],
   "source": [
    "from scipy.ndimage.morphology import distance_transform_edt as distance  # TODO: imports #\n",
    "\n",
    "# TODO: define image mask (hint: thresholding on image array) #\n",
    "im_mask = im_array>50\n",
    "\n",
    "# TODO: apply distance transform on the mask #\n",
    "im_edt = distance(im_mask)"
   ]
  },
  {
   "cell_type": "code",
   "execution_count": null,
   "metadata": {
    "collapsed": true
   },
   "outputs": [],
   "source": [
    "# plot results #\n",
    "plt.figure(figsize=(20, 8))\n",
    "\n",
    "plt_sz = (1, 3)\n",
    "\n",
    "plot_sub_image(im_array, 1, title=\"Original\", size=plt_sz)\n",
    "plot_sub_image(im_mask,  2, title=\"Mask\",     size=plt_sz)\n",
    "plot_sub_image(im_edt,   3, title=\"dist xfm\", size=plt_sz)\n",
    "\n",
    "plt.show()"
   ]
  },
  {
   "cell_type": "markdown",
   "metadata": {},
   "source": [
    "# Congratulations!\n",
    "\n",
    "You made it to the end! :)\n",
    "\n",
    "Tell your lab assistant about your results and you will pass this lab!"
   ]
  }
 ],
 "metadata": {
  "kernelspec": {
   "display_name": "Python 3",
   "language": "python",
   "name": "python3"
  },
  "language_info": {
   "codemirror_mode": {
    "name": "ipython",
    "version": 3
   },
   "file_extension": ".py",
   "mimetype": "text/x-python",
   "name": "python",
   "nbconvert_exporter": "python",
   "pygments_lexer": "ipython3",
   "version": "3.6.3"
  }
 },
 "nbformat": 4,
 "nbformat_minor": 1
}
