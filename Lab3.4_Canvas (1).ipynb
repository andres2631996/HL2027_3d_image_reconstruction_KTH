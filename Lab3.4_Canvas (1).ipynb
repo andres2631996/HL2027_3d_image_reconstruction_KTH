{
 "cells": [
  {
   "cell_type": "markdown",
   "metadata": {},
   "source": [
    "# Lab 3.4: Non-linear registration\n",
    "\n",
    "In this lab, you will perform a Demons based non-linear registration using SimpleITK.\n",
    "\n",
    "First of all, you will need to import the modules below. Some of them are in the folder 'L3.3_utilities' that you have already downloaded for the previous lab. They include useful classes and functions which are freely available in the GitHub repository of the [Insight Software Consortium](https://github.com/InsightSoftwareConsortium)."
   ]
  },
  {
   "cell_type": "code",
   "execution_count": 1,
   "metadata": {},
   "outputs": [],
   "source": [
    "import SimpleITK as sitk\n",
    "import matplotlib.pyplot as plt\n",
    "%matplotlib inline\n",
    "import sys\n",
    "from ipywidgets import interact, fixed\n",
    "\n",
    "# from Insight Software Consortium Github\n",
    "sys.path.append('./L3.3_utilities')\n",
    "import registration_utilities as ru\n",
    "import registration_callbacks as rc\n",
    "from __future__ import print_function\n",
    "%run ./L3.3_utilities/popi_utilities_setup.py"
   ]
  },
  {
   "cell_type": "markdown",
   "metadata": {},
   "source": [
    "## Loading and visualizing the data\n",
    "\n",
    "The data you are going to work with are 4D (3D space + time) thoracic-abdominal CT images from the [Point-validated Pixel-based Breathing Thorax (POPI)](https://www.creatis.insa-lyon.fr/rio/popi-model?action=show&redirect=popi) model.<br>\n",
    "In particular, you will need to load:\n",
    "- 'images', i.e. a list of temporal CT volumes (on five different time steps).\n",
    "- 'masks', i.e. a list of masks segmenting air, body and lung on each  of the above-described CT volumes. In particular, you are interested in the segmentation of the lung, whose label in the mask is equal to 2.\n",
    "\n",
    "Use the function _append_ to store each of the four time steps (labeled in their filenames as 00, 20, 40, 60 and 80) in the lists 'image' and 'masks'.<br>\n",
    "Then, you can visualize the images by using the function _interact_, which allows you to go through different time steps and different coronal slices. As you can see, the volume of the lung is changing in the different time steps, because of the respiration of the subject."
   ]
  },
  {
   "cell_type": "code",
   "execution_count": 4,
   "metadata": {
    "scrolled": true
   },
   "outputs": [
    {
     "data": {
      "application/vnd.jupyter.widget-view+json": {
       "model_id": "19c5b31cc17947a9a5a623d5e5d18c06",
       "version_major": 2,
       "version_minor": 0
      },
      "text/html": [
       "<p>Failed to display Jupyter Widget of type <code>interactive</code>.</p>\n",
       "<p>\n",
       "  If you're reading this message in the Jupyter Notebook or JupyterLab Notebook, it may mean\n",
       "  that the widgets JavaScript is still loading. If this message persists, it\n",
       "  likely means that the widgets JavaScript library is either not installed or\n",
       "  not enabled. See the <a href=\"https://ipywidgets.readthedocs.io/en/stable/user_install.html\">Jupyter\n",
       "  Widgets Documentation</a> for setup instructions.\n",
       "</p>\n",
       "<p>\n",
       "  If you're reading this message in another frontend (for example, a static\n",
       "  rendering on GitHub or <a href=\"https://nbviewer.jupyter.org/\">NBViewer</a>),\n",
       "  it may mean that your frontend doesn't currently support widgets.\n",
       "</p>\n"
      ],
      "text/plain": [
       "interactive(children=(IntSlider(value=1, description='temporal_slice', max=3), IntSlider(value=179, description='coronal_slice', max=359), Output()), _dom_classes=('widget-interact',))"
      ]
     },
     "metadata": {},
     "output_type": "display_data"
    }
   ],
   "source": [
    "# initialization of the lists\n",
    "images = []\n",
    "masks = []\n",
    "\n",
    "# TODO: label of the lungs in the mask\n",
    "lung_label = 2\n",
    "\n",
    "# TODO: read the data\n",
    "for i in range(0,8,2):\n",
    "    \n",
    "    image_file_name = './L3.3_utilities/4DCT-MetaImage/{0}0-P.nii.gz'.format(i)\n",
    "    mask_file_name = './L3.3_utilities/4DMask-MetaImage/{0}0-air-body-lungs.nii.gz'.format(i)\n",
    "    \n",
    "    # TODO: append current file to the lists\n",
    "    images.append(sitk.ReadImage(image_file_name, sitk.sitkFloat32))\n",
    "    masks.append(sitk.ReadImage(mask_file_name))\n",
    "       \n",
    "# visualization    \n",
    "interact(display_coronal_with_overlay, temporal_slice=(0,len(images)-1), \n",
    "         coronal_slice = (0, images[0].GetSize()[1]-1), \n",
    "         images = fixed(images), masks = fixed(masks), \n",
    "         label=fixed(lung_label), window_min = fixed(-1024), window_max=fixed(976));"
   ]
  },
  {
   "cell_type": "markdown",
   "metadata": {},
   "source": [
    "## Registration\n",
    "\n",
    "Your task now consists in implementing a function 'demons_registration' which performs Demons-based non-linear registration between two images ('fixed_image' and 'moving_image'), which need to be provided as first two input parameters.<br>\n",
    "You should then add a third input parameters ('fixed_image_mask'), which represents a certain mask of interest defined in the space of the fixed image. The default value of 'fixed_image_mask' should be 'None', in case the user is not providing any input mask. Otherwise, if a mask is given, the similarity metric of the registration should be evaluated only using points inside the mask."
   ]
  },
  {
   "cell_type": "code",
   "execution_count": 8,
   "metadata": {},
   "outputs": [],
   "source": [
    "def demons_registration(fix_img, mov_img, fix_img_mask=None): # TODO: provide input parameters\n",
    "    \n",
    "    # TODO: initialize the registration\n",
    "    reg_method = sitk.ImageRegistrationMethod()\n",
    "\n",
    "    # TODO: create initial identity transformation.\n",
    "    transform_to_displacement_field_filter = sitk.TransformToDisplacementFieldFilter()\n",
    "    transform_to_displacement_field_filter.SetReferenceImage(fix_img)\n",
    "    initial_transform = sitk.DisplacementFieldTransform(transform_to_displacement_field_filter.Execute(sitk.Transform()))\n",
    "    \n",
    "    # TODO: regularization. The update field refers to fluid regularization; the total field to elastic regularization.\n",
    "    initial_transform.SetSmoothingGaussianOnUpdate(varianceForUpdateField=0.3, varianceForTotalField=0.3) \n",
    "    \n",
    "    # TODO: set the initial transformation\n",
    "    reg_method.SetInitialTransform(initial_transform)\n",
    "    \n",
    "    # TODO: use the function 'SetMetricAsDemons' to be able to perform Demons registration.\n",
    "    # Be aware that you will need to provide a parameter (the intensity difference threshold) as input:\n",
    "    # during the registration, intensities are considered to be equal if their difference is less than the given threshold.\n",
    "    reg_method.SetMetricAsDemons(intensityDifferenceThreshold = 0.001)\n",
    "    \n",
    "    # TODO: evaluate the metrics only in the mask, if provided as an input\n",
    "    if fix_img_mask is not None:\n",
    "        reg_method.SetMetricFixedMask(fix_img_mask)  \n",
    "    \n",
    "    # TODO: set a linear interpolator\n",
    "    reg_method.SetInterpolator(sitk.sitkLinear)\n",
    "    \n",
    "    # TODO: set a gradient descent optimizer\n",
    "    reg_method.SetOptimizerAsGradientDescent(learningRate=1.0, numberOfIterations=10, convergenceMinimumValue=1e-6, convergenceWindowSize=10)\n",
    "    reg_method.SetOptimizerScalesFromPhysicalShift()\n",
    "        \n",
    "    return reg_method.Execute(sitk.Cast(fix_img, sitk.sitkFloat32), \n",
    "                                              sitk.Cast(mov_img, sitk.sitkFloat32))    "
   ]
  },
  {
   "cell_type": "markdown",
   "metadata": {},
   "source": [
    "Once you have implemented the 'demons_registration' function, you can select two time points (between 0 and 4). The two CT scans acquired in these two time points will determine your fixed and moving image.<br>\n",
    "Then, you can perform Demons registration on the two images. Remember to provide the appropriate input mask (only for the lung label!) stored in the list 'masks'."
   ]
  },
  {
   "cell_type": "code",
   "execution_count": 16,
   "metadata": {},
   "outputs": [],
   "source": [
    "# TODO: select two indices (one for each time point)\n",
    "fixed_image_index = 0\n",
    "moving_image_index = 3\n",
    "\n",
    "# TODO: perform the registration\n",
    "transformation = demons_registration(fix_img = images[fixed_image_index], \n",
    "                                     mov_img = images[moving_image_index],\n",
    "                                     fix_img_mask = (masks[fixed_image_index] == lung_label)\n",
    "                                     )"
   ]
  },
  {
   "cell_type": "markdown",
   "metadata": {},
   "source": [
    "Once the registration has finished running, you can estimate its quality both visually and quantitively by using the segmentation masks.<br>\n",
    "First of all, apply the transformation derived as an output of demons_registration to the mask of the moving image."
   ]
  },
  {
   "cell_type": "code",
   "execution_count": 17,
   "metadata": {},
   "outputs": [],
   "source": [
    "# transfer the segmentation via the estimated transformation\n",
    "transformed_labels = sitk.Resample(masks[moving_image_index],\n",
    "                                   images[fixed_image_index],\n",
    "                                   transformation, \n",
    "                                   sitk.sitkNearestNeighbor,\n",
    "                                   0.0, \n",
    "                                   masks[moving_image_index].GetPixelID())"
   ]
  },
  {
   "cell_type": "markdown",
   "metadata": {},
   "source": [
    "Once you got the transformed labels, you can visually assess the quality of the segmentation by judging from the image whether the transformed lung mask is actually matching the lungs in the fixed image or not.<br>\n",
    "In the figure below, you can see both the original mask (mask index 0) of the moving image and the registered one (mask index 1). Did the registration succeed in properly deforming the lungs?"
   ]
  },
  {
   "cell_type": "code",
   "execution_count": 18,
   "metadata": {},
   "outputs": [
    {
     "data": {
      "application/vnd.jupyter.widget-view+json": {
       "model_id": "39f1e113af8e43ae81c22488721c71b7",
       "version_major": 2,
       "version_minor": 0
      },
      "text/html": [
       "<p>Failed to display Jupyter Widget of type <code>interactive</code>.</p>\n",
       "<p>\n",
       "  If you're reading this message in the Jupyter Notebook or JupyterLab Notebook, it may mean\n",
       "  that the widgets JavaScript is still loading. If this message persists, it\n",
       "  likely means that the widgets JavaScript library is either not installed or\n",
       "  not enabled. See the <a href=\"https://ipywidgets.readthedocs.io/en/stable/user_install.html\">Jupyter\n",
       "  Widgets Documentation</a> for setup instructions.\n",
       "</p>\n",
       "<p>\n",
       "  If you're reading this message in another frontend (for example, a static\n",
       "  rendering on GitHub or <a href=\"https://nbviewer.jupyter.org/\">NBViewer</a>),\n",
       "  it may mean that your frontend doesn't currently support widgets.\n",
       "</p>\n"
      ],
      "text/plain": [
       "interactive(children=(IntSlider(value=179, description='coronal_slice', max=359), IntSlider(value=0, description='mask_index', max=1), Output()), _dom_classes=('widget-interact',))"
      ]
     },
     "metadata": {},
     "output_type": "display_data"
    }
   ],
   "source": [
    "# visualize\n",
    "segmentations_before_and_after = [masks[moving_image_index], transformed_labels]\n",
    "interact(display_coronal_with_label_maps_overlay, coronal_slice = (0, images[0].GetSize()[1]-1),\n",
    "         mask_index=(0,len(segmentations_before_and_after)-1),\n",
    "         image = fixed(images[fixed_image_index]), masks = fixed(segmentations_before_and_after), \n",
    "         label=fixed(lung_label), window_min = fixed(-1024), window_max=fixed(976));"
   ]
  },
  {
   "cell_type": "markdown",
   "metadata": {},
   "source": [
    "By using the derived transformed labels, the quality of the registration can also be assessed quantitavely. In particular, you can use the __dice coefficient__, which is a metric having values between 0 and 1 and can be used to compare the degree of overlap between the \"ground-truth\" (i.e. the original lung mask of the fixed image) and the registered mask (i.e. the lung segmentation in 'transformed_labels'). You can read more about the dice coefficient in its [Wikipedia page](https://en.wikipedia.org/wiki/S%C3%B8rensen%E2%80%93Dice_coefficient).<br>\n",
    "Is the dice coefficient increasing _after_ the registration with respect to _before_ the registration?"
   ]
  },
  {
   "cell_type": "code",
   "execution_count": 23,
   "metadata": {},
   "outputs": [
    {
     "name": "stdout",
     "output_type": "stream",
     "text": [
      "Dice coefficient before registration: 0.93\n",
      "Dice coefficient after registration: 0.95\n"
     ]
    }
   ],
   "source": [
    "# TODO: get the ground truth mask, the mask before the registration and the mask after the registration\n",
    "ground_truth = masks[fixed_image_index] == lung_label\n",
    "before_reg = masks[moving_image_index] == lung_label\n",
    "after_reg = transformed_labels == lung_label\n",
    "\n",
    "# compute the dice coefficient\n",
    "label_overlap_measures_filter = sitk.LabelOverlapMeasuresImageFilter()\n",
    "label_overlap_measures_filter.Execute(ground_truth, before_reg)\n",
    "print(\"Dice coefficient before registration: {:.2f}\".format(label_overlap_measures_filter.GetDiceCoefficient()))\n",
    "label_overlap_measures_filter.Execute(ground_truth, after_reg)\n",
    "print(\"Dice coefficient after registration: {:.2f}\".format(label_overlap_measures_filter.GetDiceCoefficient()))"
   ]
  },
  {
   "cell_type": "markdown",
   "metadata": {},
   "source": [
    "Try to test different parameters inside the 'demons_registration' function to test whether you can further improve your result."
   ]
  }
 ],
 "metadata": {
  "kernelspec": {
   "display_name": "Python 3",
   "language": "python",
   "name": "python3"
  },
  "language_info": {
   "codemirror_mode": {
    "name": "ipython",
    "version": 3
   },
   "file_extension": ".py",
   "mimetype": "text/x-python",
   "name": "python",
   "nbconvert_exporter": "python",
   "pygments_lexer": "ipython3",
   "version": "3.6.4"
  }
 },
 "nbformat": 4,
 "nbformat_minor": 1
}
