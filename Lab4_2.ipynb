{
 "cells": [
  {
   "cell_type": "markdown",
   "metadata": {},
   "source": [
    "# Lab4.2 Image Segmentation; GraphCut, GrabCut, Region Growing \n",
    "\n",
    "In this lab, you will be familiar with Graph Cut segmentation by implementing a simple graph model. Then, for the more complex ones, you will use available tools from opencv and also MeVisLab."
   ]
  },
  {
   "cell_type": "markdown",
   "metadata": {},
   "source": [
    "# Make Sure You Already Installed PyMaxFlow on Your Laptop\n",
    "\n",
    "As a prerequisite, you should first install \"microsoft visual c++ build tools\", then \"pip install PyMaxflow\""
   ]
  },
  {
   "cell_type": "markdown",
   "metadata": {},
   "source": [
    "## First Part: Graph Cut Segmentation\n",
    "\n",
    "Here, we try to implement a simple graph model and use the maximum flow method to segment a very simple image for foreground (ROI) and background."
   ]
  },
  {
   "cell_type": "code",
   "execution_count": 38,
   "metadata": {},
   "outputs": [],
   "source": [
    "# Just for Read\n",
    "import cv2\n",
    "import numpy\n",
    "from numpy import *\n",
    "import maxflow\n",
    "from matplotlib import pyplot as plt\n",
    "from pylab import *\n",
    "from PIL import Image"
   ]
  },
  {
   "cell_type": "markdown",
   "metadata": {},
   "source": [
    "### Reading the Input Image and initialization of the parameters\n",
    "\n",
    "In this model ,we are going to find the inter-pixel(nodes) weights by using this formula: Kappa*(exp(-abs(Ii-Ij)^2)/Variance) where I refers to the intensity of neighboring pixels(i and j)\n",
    "\n",
    "Also the weights between each node and terminals(source and sink) will be defind as: -log(Pb(i)), -log(Pf(i)) where b and f refers to background and foreground.\n",
    "\n",
    "As the first step, you are going to define approximated regions for foreground and background.\n",
    "\n",
    "We utilized \"Python Image Library\" for the convenience of image cropping.\n",
    "\n",
    "The input image is a very simple one with only one foreground and one background. The purpose is to segment the white circle of this image.\n",
    "\n",
    "Steps:\n",
    "\n",
    "1- Read the input image (Sample1.jpg) using \"Image.open\" for further processing\n",
    "\n",
    "2- Read the input image again using \"cv2.imread\" and show it (for finding the approximation of foreground and background)\n",
    "\n",
    "3- Set the initial parameter of \"Kappa\" and \"Variance\"\n",
    "\n",
    "4- Set the coordinates of two rectangle (seed points) based on your observation of the imshowed image like this: (Xleft(Up),Yleft(Up),Xright(Down),Yright(Down)). \n"
   ]
  },
  {
   "cell_type": "code",
   "execution_count": 44,
   "metadata": {},
   "outputs": [
    {
     "data": {
      "image/png": "[encoded data removed]",
      "text/plain": [
       "<matplotlib.figure.Figure at 0x24918ec3550>"
      ]
     },
     "metadata": {},
     "output_type": "display_data"
    }
   ],
   "source": [
    "# TODO implement steps 1:4\n",
    "\n",
    "# Insert the name of the image 'Sample1.jpg'\n",
    "InputImage = 'Sample1.jpg'\n",
    "# Read the input image using \"Image.open\" (This is for processing)\n",
    "Im = Image.open(InputImage)\n",
    "# Read the same image using \"cv2.imread\" (Only for showing)\n",
    "IMG = cv2.imread(InputImage)\n",
    "# Show IMG using \"plt.imshow\"\n",
    "plt.imshow(IMG)\n",
    "# Based on the imshowed image, find the coordinates of a rectangle for foreground and another rectangle for background.\n",
    "ForeGroundRect = (150,150,350,250)\n",
    "BackGroundRect = (1,2,400,100)\n",
    "# Assign integers to Kappa and Variance\n",
    "Kappa = 2\n",
    "Variance = 100"
   ]
  },
  {
   "cell_type": "markdown",
   "metadata": {},
   "source": [
    "### Generating Two Images by Cropping Foreground and Background Masks\n",
    "\n",
    "5- Use \"Im.crop\" to crop the input image for both of the foreground and background rectangles\n",
    "\n",
    "6- Convert input image, foreground and background images into array\n",
    "\n",
    "7- Find the average of histograms for both of the foreground and background images"
   ]
  },
  {
   "cell_type": "code",
   "execution_count": 45,
   "metadata": {},
   "outputs": [],
   "source": [
    "# TODO implement steps 5:7\n",
    "# Cropping the image\n",
    "ImFore = Im.crop(ForeGroundRect) \n",
    "ImBack = Im.crop(BackGroundRect) \n",
    "# convert all the images to arrays for calculation\n",
    "Im = array(Im)\n",
    "ImFore = array(ImFore)\n",
    "ImBack = array(ImBack)\n",
    "# Finding histogram averages from \"cv2.calcHist\" for foreground and background separately \n",
    "ImForeMean = mean(cv2.calcHist([ImFore],[0],None,[256],[0,256]))\n",
    "ImBackMean = mean(cv2.calcHist([ImBack],[0],None,[256],[0,256]))"
   ]
  },
  {
   "cell_type": "code",
   "execution_count": 46,
   "metadata": {},
   "outputs": [
    {
     "name": "stdout",
     "output_type": "stream",
     "text": [
      "Maximum Flow Is:  24090\n"
     ]
    }
   ],
   "source": [
    "# Just for Read\n",
    "#Coverting the image array to a vector for convenient.\n",
    "Img = Im.reshape(-1,1) \n",
    "m,n = Im.shape\n",
    "# Defining the graph\n",
    "Graph = maxflow.Graph[int](m,n)\n",
    "pic = maxflow.Graph[int](m,n)\n",
    "# Initializing the structure\n",
    "Structure = maxflow.vonNeumann_structure(ndim=2, directed=True)\n",
    "# Defining terminal nodes\n",
    "J = Im\n",
    "# Add non-terminal nodes to graph\n",
    "Nodes = Graph.add_nodes(m*n)\n",
    "# Add a grid of non-terminal nodes\n",
    "IdentiNodes = pic.add_grid_nodes(J.shape)\n",
    "# Add edges with a fixed capacity to a grid of nodes\n",
    "pic.add_grid_edges(IdentiNodes,0)\n",
    "# Set the capacity of the terminal edges for multiple nodes\n",
    "pic.add_grid_tedges(IdentiNodes, J, 255-J)\n",
    "# Finding the maximum flow of the graph\n",
    "MaxFlow = pic.maxflow()\n",
    "print (\"Maximum Flow Is: \",MaxFlow)\n",
    "# Finding whether the given nodes belong to foreground or background?\n",
    "ImOut = pic.get_grid_segments(IdentiNodes)"
   ]
  },
  {
   "cell_type": "markdown",
   "metadata": {},
   "source": [
    "### Finding The Probability of Each Pixel Being Background or Foreground\n",
    "\n",
    "This probability will be calculated as: -log(a/(b+c)); where a,b,c are the differences between pixel values and average of histograms.\n",
    "\n",
    "8- Find the probability of each pixels belong to foreground and background (You have to use a 'for' loop)"
   ]
  },
  {
   "cell_type": "code",
   "execution_count": 47,
   "metadata": {},
   "outputs": [],
   "source": [
    "# TODO implement step 8\n",
    "# Defining the Probability values (Probablity of a pixel being background or foreground)\n",
    "\n",
    "#initalizing the foreground/background probability vector\n",
    "PrFore = zeros(shape = Im.shape)\n",
    "PrBack = zeros(shape = Im.shape)\n",
    "# calculating the probabilities\n",
    "for i in range(m):\n",
    "    for j in range(n):\n",
    "        PrFore[i, j] = -log(abs(Im[i, j] - ImForeMean) / (abs(Im[i, j] - ImForeMean) + abs(Im[i, j] - ImBackMean)))\n",
    "        PrBack[i,j] = -log(abs(Im[i, j] - ImBackMean) / (abs(Im[i, j] - ImForeMean) + abs(Im[i, j] - ImBackMean)))\n",
    "# vectorizing the matrix\n",
    "PrFore = PrFore.reshape(-1,1)\n",
    "PrBack = PrBack.reshape(-1,1)"
   ]
  },
  {
   "cell_type": "markdown",
   "metadata": {},
   "source": [
    "### Calculating Inter-Pixels (nodes) Weights \n",
    "\n",
    "The weights should be calculated through the Gaussian formula as: Kappa*(exp(-abs(Ii-Ij)^2)/Variance). This means if the neighboring pixels have the same intensity values then the weights will be Kappa*1 and if their intensities differs then the weight will be so small. For this task, 4-pixels connectivity is considered.\n",
    "\n",
    "9- Try to compelete the next cell to calculate the weights"
   ]
  },
  {
   "cell_type": "code",
   "execution_count": 48,
   "metadata": {},
   "outputs": [],
   "source": [
    "# TODO implement step 9\n",
    "# Finding the interpixels weights\n",
    "\n",
    "w = Structure\n",
    "for i in range(m*n):\n",
    "    # source weight\n",
    "    Wsource=(PrFore[i]/(PrFore[i]+PrBack[i])) \n",
    "    # sink weight\n",
    "    Wsink=(PrBack[i]/(PrFore[i]+PrBack[i])) \n",
    "    # edges between pixels and terminals (source and sink)\n",
    "    Graph.add_tedge(i,Wsource,Wsink) \n",
    "    # for left neighbor pixels\n",
    "    if i%n != 0: \n",
    "        w = Kappa*exp(-(abs(Img[i]-Img[i-1])**2)/Variance) # the cost function for two pixels\n",
    "        Graph.add_edge(i,i-1,w,Kappa-w) # Bidirectional edges between two pixels\n",
    "        # for right neighbor pixels\n",
    "    if (i+1)%n != 0: \n",
    "        w = Kappa*exp(-(abs(Img[i]-Img[i+1])**2)/Variance)\n",
    "        Graph.add_edge(i,i+1,w,Kappa-w) # Bidirectional edges between two pixels\n",
    "        # for top neighbor pixels\n",
    "    if i//n != 0: \n",
    "        w = Kappa*exp(-(abs(Img[i]-Img[i-n])**2)/Variance)\n",
    "        Graph.add_edge(i,i-n,w,Kappa-w) # Bidirectional edges between two pixels\n",
    "        # for bottom neighbor pixels\n",
    "    if i//n != m-1: \n",
    "        w = Kappa*exp(-(abs(Img[i]-Img[i+n])**2)/Variance)\n",
    "        Graph.add_edge(i,i+n,w,Kappa-w) # Bidirectional edges between two pixels"
   ]
  },
  {
   "cell_type": "code",
   "execution_count": 49,
   "metadata": {},
   "outputs": [
    {
     "data": {
      "image/png": "[encoded data removed]",
      "text/plain": [
       "<matplotlib.figure.Figure at 0x24918d03518>"
      ]
     },
     "metadata": {},
     "output_type": "display_data"
    }
   ],
   "source": [
    "# Just for Read\n",
    "IOut = ones(Nodes.shape)\n",
    "for i in range(len(Nodes)):\n",
    "    IOut[i] = Graph.get_segment(Nodes[i]) # classifying each pixel as either forground or background\n",
    "ImgOut = 255*ones((Im.shape[0],Im.shape[1],3)) # initialization for 3d input\n",
    "for i in range(Im.shape[0]):\n",
    "    for j in range(Im.shape[1]): # converting the True/False to Pixel intensity\n",
    "        if ImOut[i,j]==False:\n",
    "            if len(Im.shape) == 2:\n",
    "                ImgOut[i,j,0],ImgOut[i,j,1],ImgOut[i,j,2] = Im[i,j],Im[i,j],Im[i,j] # foreground for 2d image\n",
    "            if len(Im.shape) == 3:\n",
    "                ImgOut[i,j,0],ImgOut[i,j,1],ImgOut[i,j,2] = Im[i,j,0],Im[i,j,1],Im[i,j,2] # foreground for 3d image\n",
    "        else:\n",
    "            ImgOut[i,j,0],ImgOut[i,j,1],ImgOut[i,j,2] = 128,1,128 # background color\n",
    "\n",
    "plt.imshow(ImgOut) # plot the output image\n",
    "plt.show()"
   ]
  },
  {
   "cell_type": "markdown",
   "metadata": {},
   "source": [
    "### Noisy Image\n",
    "\n",
    "10- Now, repeat the whole process for 'Sample1.jpg' which is the same as previous image but some Gaussian noise has been added."
   ]
  },
  {
   "cell_type": "markdown",
   "metadata": {},
   "source": [
    "## Second Part\n",
    "\n",
    "In this part you are expected to employ a more efficient graph cut method through the available tools from OPENCV so that you can segment more complicated images. For this part you should segment a brain tumor, bladder and also body vertebra all from CT images.\n",
    "\n",
    "11- Try to complete the next cell for segmenting 'Bladder.bmp'. The most important task here is to find a proper rectangle around the Bladder region. Similar to Part 1, you can imshow the image and find the proper coordinates. The only difference here is the way defining the rectangle: rect = (a,b,c,d) where a refers to X coordinate, B refers to Y coordinate, C refers to width and D refers to height of the rectangle."
   ]
  },
  {
   "cell_type": "code",
   "execution_count": 56,
   "metadata": {},
   "outputs": [
    {
     "data": {
      "image/png": "[encoded data removed]",
      "text/plain": [
       "<matplotlib.figure.Figure at 0x24919670240>"
      ]
     },
     "metadata": {},
     "output_type": "display_data"
    },
    {
     "data": {
      "text/plain": [
       "(<matplotlib.image.AxesImage at 0x2491d302ba8>, None)"
      ]
     },
     "execution_count": 56,
     "metadata": {},
     "output_type": "execute_result"
    }
   ],
   "source": [
    "#TODO implement step 11\n",
    "# Read the image 'Bladder.bmp' using cv2.imread\n",
    "Im = cv2.imread('Bladder.bmp')\n",
    "Mask = zeros(Im.shape[0:2],uint8)\n",
    "bgdModel = zeros((1,65),float64)\n",
    "fgdModel = zeros((1,65),float64)\n",
    "# Imshow the image and find proper coordinates for the foreground rectangle\n",
    "plt.imshow(Im,cmap='gray')\n",
    "# Insert the coordinates in a tuple\n",
    "rect=(200,200,100,250)\n",
    "# Call the funciton \"cv2.grabCut\"\n",
    "cv2.grabCut(Im,Mask,rect,bgdModel,fgdModel,10,cv2.GC_INIT_WITH_RECT)\n",
    "Mask2 = np.where((Mask==2)|(Mask==0),0,1).astype('uint8')\n",
    "Img = Im*Mask2[:,:,newaxis]\n",
    "plt.imshow(Img),plt.show()"
   ]
  },
  {
   "cell_type": "code",
   "execution_count": 58,
   "metadata": {},
   "outputs": [
    {
     "data": {
      "image/png": "[encoded data removed]",
      "text/plain": [
       "<matplotlib.figure.Figure at 0x2491965f940>"
      ]
     },
     "metadata": {},
     "output_type": "display_data"
    },
    {
     "data": {
      "text/plain": [
       "(<matplotlib.image.AxesImage at 0x24918e7a4a8>, None)"
      ]
     },
     "execution_count": 58,
     "metadata": {},
     "output_type": "execute_result"
    }
   ],
   "source": [
    "#TODO Repeat step 11 for 'Bodyvertebra.bmp'\n",
    "Im = cv2.imread('Bodyvertebra.bmp')\n",
    "Mask = zeros(Im.shape[0:2],uint8)\n",
    "bgdModel = zeros((1,65),float64)\n",
    "fgdModel = zeros((1,65),float64)\n",
    "# Imshow the image and find proper coordinates for the foreground rectangle\n",
    "plt.imshow(Im,cmap='gray')\n",
    "# Insert the coordinates in a tuple\n",
    "rect=(70,110,80,90)\n",
    "# Call the funciton \"cv2.grabCut\"\n",
    "cv2.grabCut(Im,Mask,rect,bgdModel,fgdModel,10,cv2.GC_INIT_WITH_RECT)\n",
    "Mask2 = np.where((Mask==2)|(Mask==0),0,1).astype('uint8')\n",
    "Img = Im*Mask2[:,:,newaxis]\n",
    "plt.imshow(Img),plt.show()"
   ]
  },
  {
   "cell_type": "code",
   "execution_count": 60,
   "metadata": {},
   "outputs": [
    {
     "data": {
      "image/png": "[encoded data removed]",
      "text/plain": [
       "<matplotlib.figure.Figure at 0x249194e2eb8>"
      ]
     },
     "metadata": {},
     "output_type": "display_data"
    },
    {
     "data": {
      "text/plain": [
       "(<matplotlib.image.AxesImage at 0x24919518d68>, None)"
      ]
     },
     "execution_count": 60,
     "metadata": {},
     "output_type": "execute_result"
    }
   ],
   "source": [
    "#TODO Repeat step 11 for 'Brain.jpg'\n",
    "Im = cv2.imread('Brain.jpg')\n",
    "Mask = zeros(Im.shape[0:2],uint8)\n",
    "bgdModel = zeros((1,65),float64)\n",
    "fgdModel = zeros((1,65),float64)\n",
    "# Imshow the image and find proper coordinates for the foreground rectangle\n",
    "plt.imshow(Im,cmap='gray')\n",
    "# Insert the coordinates in a tuple\n",
    "rect=(60,180,100,100)\n",
    "# Call the funciton \"cv2.grabCut\"\n",
    "cv2.grabCut(Im,Mask,rect,bgdModel,fgdModel,10,cv2.GC_INIT_WITH_RECT)\n",
    "Mask2 = np.where((Mask==2)|(Mask==0),0,1).astype('uint8')\n",
    "Img = Im*Mask2[:,:,newaxis]\n",
    "plt.imshow(Img),plt.show()"
   ]
  },
  {
   "cell_type": "markdown",
   "metadata": {},
   "source": [
    "## Third Part; Region Growing\n",
    "\n",
    "Continue the lab in MeVisLab by loading Mev3 and Mev4.\n",
    "\n",
    "12- Open the file 'RegionGrowingExample' and load the image 'S1'. Try to segment Lung regions.\n",
    "\n",
    "13- Repeat step 12 for image 'S2'.\n",
    "\n",
    "14- Load image 'S3' and try to segment the Body Vertebra. Can you get a good result as TODO11 ? \n",
    "\n",
    "In all the mentioned steps, you can double click on \"Region Growing\" and modify the thresholding value.\n",
    "\n"
   ]
  }
 ],
 "metadata": {
  "kernelspec": {
   "display_name": "Python 3",
   "language": "python",
   "name": "python3"
  },
  "language_info": {
   "codemirror_mode": {
    "name": "ipython",
    "version": 3
   },
   "file_extension": ".py",
   "mimetype": "text/x-python",
   "name": "python",
   "nbconvert_exporter": "python",
   "pygments_lexer": "ipython3",
   "version": "3.6.4"
  }
 },
 "nbformat": 4,
 "nbformat_minor": 2
}
